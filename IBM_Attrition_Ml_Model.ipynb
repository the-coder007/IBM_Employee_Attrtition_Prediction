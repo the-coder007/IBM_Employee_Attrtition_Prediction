{
 "cells": [
  {
   "cell_type": "markdown",
   "id": "bc98a9cb",
   "metadata": {
    "papermill": {
     "duration": 0.061565,
     "end_time": "2022-05-16T05:43:35.625056",
     "exception": false,
     "start_time": "2022-05-16T05:43:35.563491",
     "status": "completed"
    },
    "tags": []
   },
   "source": [
    "# **-------------- IBM EMPLOYEE ATTRITION ---------------**"
   ]
  },
  {
   "cell_type": "markdown",
   "id": "514fde1c",
   "metadata": {
    "papermill": {
     "duration": 0.058646,
     "end_time": "2022-05-16T05:43:35.836512",
     "exception": false,
     "start_time": "2022-05-16T05:43:35.777866",
     "status": "completed"
    },
    "tags": []
   },
   "source": [
    "#### **Description**\n",
    "\n",
    "IBM is an American MNC operating in around 170 countries with major business vertical as computing, software, and hardware.\n",
    "Attrition is a major risk to service-providing organizations where trained and experienced people are the assets of the company. The organization would like to identify the factors which influence the attrition of employees.\n",
    "\n",
    "#### **Analysis Task**\n",
    "\n",
    "* Import attrition dataset and import libraries such as pandas, matplotlib.pyplot, numpy, and seaborn.\n",
    "* Exploratory data analysis\n",
    "* Find the age distribution of employees in IBM\n",
    "* Explore attrition by age\n",
    "* Explore attrition by Gender\n",
    "* Explore data for Left employees\n",
    "* Find out the distribution of employees by the education field\n",
    "* Give a bar chart for the number of married and unmarried employees\n",
    "* Build up a logistic regression model to predict which employees are likely to attrite."
   ]
  },
  {
   "cell_type": "code",
   "execution_count": 1,
   "id": "1ab6ac91",
   "metadata": {
    "execution": {
     "iopub.execute_input": "2022-05-16T05:43:35.942250Z",
     "iopub.status.busy": "2022-05-16T05:43:35.941213Z",
     "iopub.status.idle": "2022-05-16T05:43:36.985226Z",
     "shell.execute_reply": "2022-05-16T05:43:36.984362Z"
    },
    "papermill": {
     "duration": 1.098097,
     "end_time": "2022-05-16T05:43:36.987870",
     "exception": false,
     "start_time": "2022-05-16T05:43:35.889773",
     "status": "completed"
    },
    "tags": []
   },
   "outputs": [],
   "source": [
    "import numpy as np\n",
    "import pandas as pd\n",
    "import sklearn\n",
    "import matplotlib.pyplot as plt\n",
    "import seaborn as sns\n",
    "%matplotlib inline"
   ]
  },
  {
   "cell_type": "code",
   "execution_count": 2,
   "id": "0449a608",
   "metadata": {
    "execution": {
     "iopub.execute_input": "2022-05-16T05:43:37.090568Z",
     "iopub.status.busy": "2022-05-16T05:43:37.090296Z",
     "iopub.status.idle": "2022-05-16T05:43:37.147934Z",
     "shell.execute_reply": "2022-05-16T05:43:37.147055Z"
    },
    "papermill": {
     "duration": 0.112689,
     "end_time": "2022-05-16T05:43:37.151075",
     "exception": false,
     "start_time": "2022-05-16T05:43:37.038386",
     "status": "completed"
    },
    "tags": []
   },
   "outputs": [
    {
     "data": {
      "text/html": [
       "<div>\n",
       "<style scoped>\n",
       "    .dataframe tbody tr th:only-of-type {\n",
       "        vertical-align: middle;\n",
       "    }\n",
       "\n",
       "    .dataframe tbody tr th {\n",
       "        vertical-align: top;\n",
       "    }\n",
       "\n",
       "    .dataframe thead th {\n",
       "        text-align: right;\n",
       "    }\n",
       "</style>\n",
       "<table border=\"1\" class=\"dataframe\">\n",
       "  <thead>\n",
       "    <tr style=\"text-align: right;\">\n",
       "      <th></th>\n",
       "      <th>Age</th>\n",
       "      <th>Attrition</th>\n",
       "      <th>BusinessTravel</th>\n",
       "      <th>DailyRate</th>\n",
       "      <th>Department</th>\n",
       "      <th>DistanceFromHome</th>\n",
       "      <th>Education</th>\n",
       "      <th>EducationField</th>\n",
       "      <th>EmployeeCount</th>\n",
       "      <th>EmployeeNumber</th>\n",
       "      <th>...</th>\n",
       "      <th>RelationshipSatisfaction</th>\n",
       "      <th>StandardHours</th>\n",
       "      <th>StockOptionLevel</th>\n",
       "      <th>TotalWorkingYears</th>\n",
       "      <th>TrainingTimesLastYear</th>\n",
       "      <th>WorkLifeBalance</th>\n",
       "      <th>YearsAtCompany</th>\n",
       "      <th>YearsInCurrentRole</th>\n",
       "      <th>YearsSinceLastPromotion</th>\n",
       "      <th>YearsWithCurrManager</th>\n",
       "    </tr>\n",
       "  </thead>\n",
       "  <tbody>\n",
       "    <tr>\n",
       "      <th>0</th>\n",
       "      <td>41</td>\n",
       "      <td>Yes</td>\n",
       "      <td>Travel_Rarely</td>\n",
       "      <td>1102</td>\n",
       "      <td>Sales</td>\n",
       "      <td>1</td>\n",
       "      <td>2</td>\n",
       "      <td>Life Sciences</td>\n",
       "      <td>1</td>\n",
       "      <td>1</td>\n",
       "      <td>...</td>\n",
       "      <td>1</td>\n",
       "      <td>80</td>\n",
       "      <td>0</td>\n",
       "      <td>8</td>\n",
       "      <td>0</td>\n",
       "      <td>1</td>\n",
       "      <td>6</td>\n",
       "      <td>4</td>\n",
       "      <td>0</td>\n",
       "      <td>5</td>\n",
       "    </tr>\n",
       "    <tr>\n",
       "      <th>1</th>\n",
       "      <td>49</td>\n",
       "      <td>No</td>\n",
       "      <td>Travel_Frequently</td>\n",
       "      <td>279</td>\n",
       "      <td>Research &amp; Development</td>\n",
       "      <td>8</td>\n",
       "      <td>1</td>\n",
       "      <td>Life Sciences</td>\n",
       "      <td>1</td>\n",
       "      <td>2</td>\n",
       "      <td>...</td>\n",
       "      <td>4</td>\n",
       "      <td>80</td>\n",
       "      <td>1</td>\n",
       "      <td>10</td>\n",
       "      <td>3</td>\n",
       "      <td>3</td>\n",
       "      <td>10</td>\n",
       "      <td>7</td>\n",
       "      <td>1</td>\n",
       "      <td>7</td>\n",
       "    </tr>\n",
       "    <tr>\n",
       "      <th>2</th>\n",
       "      <td>37</td>\n",
       "      <td>Yes</td>\n",
       "      <td>Travel_Rarely</td>\n",
       "      <td>1373</td>\n",
       "      <td>Research &amp; Development</td>\n",
       "      <td>2</td>\n",
       "      <td>2</td>\n",
       "      <td>Other</td>\n",
       "      <td>1</td>\n",
       "      <td>4</td>\n",
       "      <td>...</td>\n",
       "      <td>2</td>\n",
       "      <td>80</td>\n",
       "      <td>0</td>\n",
       "      <td>7</td>\n",
       "      <td>3</td>\n",
       "      <td>3</td>\n",
       "      <td>0</td>\n",
       "      <td>0</td>\n",
       "      <td>0</td>\n",
       "      <td>0</td>\n",
       "    </tr>\n",
       "    <tr>\n",
       "      <th>3</th>\n",
       "      <td>33</td>\n",
       "      <td>No</td>\n",
       "      <td>Travel_Frequently</td>\n",
       "      <td>1392</td>\n",
       "      <td>Research &amp; Development</td>\n",
       "      <td>3</td>\n",
       "      <td>4</td>\n",
       "      <td>Life Sciences</td>\n",
       "      <td>1</td>\n",
       "      <td>5</td>\n",
       "      <td>...</td>\n",
       "      <td>3</td>\n",
       "      <td>80</td>\n",
       "      <td>0</td>\n",
       "      <td>8</td>\n",
       "      <td>3</td>\n",
       "      <td>3</td>\n",
       "      <td>8</td>\n",
       "      <td>7</td>\n",
       "      <td>3</td>\n",
       "      <td>0</td>\n",
       "    </tr>\n",
       "    <tr>\n",
       "      <th>4</th>\n",
       "      <td>27</td>\n",
       "      <td>No</td>\n",
       "      <td>Travel_Rarely</td>\n",
       "      <td>591</td>\n",
       "      <td>Research &amp; Development</td>\n",
       "      <td>2</td>\n",
       "      <td>1</td>\n",
       "      <td>Medical</td>\n",
       "      <td>1</td>\n",
       "      <td>7</td>\n",
       "      <td>...</td>\n",
       "      <td>4</td>\n",
       "      <td>80</td>\n",
       "      <td>1</td>\n",
       "      <td>6</td>\n",
       "      <td>3</td>\n",
       "      <td>3</td>\n",
       "      <td>2</td>\n",
       "      <td>2</td>\n",
       "      <td>2</td>\n",
       "      <td>2</td>\n",
       "    </tr>\n",
       "  </tbody>\n",
       "</table>\n",
       "<p>5 rows × 35 columns</p>\n",
       "</div>"
      ],
      "text/plain": [
       "   Age Attrition     BusinessTravel  DailyRate              Department  \\\n",
       "0   41       Yes      Travel_Rarely       1102                   Sales   \n",
       "1   49        No  Travel_Frequently        279  Research & Development   \n",
       "2   37       Yes      Travel_Rarely       1373  Research & Development   \n",
       "3   33        No  Travel_Frequently       1392  Research & Development   \n",
       "4   27        No      Travel_Rarely        591  Research & Development   \n",
       "\n",
       "   DistanceFromHome  Education EducationField  EmployeeCount  EmployeeNumber  \\\n",
       "0                 1          2  Life Sciences              1               1   \n",
       "1                 8          1  Life Sciences              1               2   \n",
       "2                 2          2          Other              1               4   \n",
       "3                 3          4  Life Sciences              1               5   \n",
       "4                 2          1        Medical              1               7   \n",
       "\n",
       "   ...  RelationshipSatisfaction StandardHours  StockOptionLevel  \\\n",
       "0  ...                         1            80                 0   \n",
       "1  ...                         4            80                 1   \n",
       "2  ...                         2            80                 0   \n",
       "3  ...                         3            80                 0   \n",
       "4  ...                         4            80                 1   \n",
       "\n",
       "   TotalWorkingYears  TrainingTimesLastYear WorkLifeBalance  YearsAtCompany  \\\n",
       "0                  8                      0               1               6   \n",
       "1                 10                      3               3              10   \n",
       "2                  7                      3               3               0   \n",
       "3                  8                      3               3               8   \n",
       "4                  6                      3               3               2   \n",
       "\n",
       "  YearsInCurrentRole  YearsSinceLastPromotion  YearsWithCurrManager  \n",
       "0                  4                        0                     5  \n",
       "1                  7                        1                     7  \n",
       "2                  0                        0                     0  \n",
       "3                  7                        3                     0  \n",
       "4                  2                        2                     2  \n",
       "\n",
       "[5 rows x 35 columns]"
      ]
     },
     "execution_count": 2,
     "metadata": {},
     "output_type": "execute_result"
    }
   ],
   "source": [
    "df = pd.read_csv(\"IBM Employee Dataset.csv\")\n",
    "df.head()"
   ]
  },
  {
   "cell_type": "code",
   "execution_count": 3,
   "id": "a53065e9",
   "metadata": {
    "execution": {
     "iopub.execute_input": "2022-05-16T05:43:37.257177Z",
     "iopub.status.busy": "2022-05-16T05:43:37.256860Z",
     "iopub.status.idle": "2022-05-16T05:43:37.283510Z",
     "shell.execute_reply": "2022-05-16T05:43:37.282421Z"
    },
    "papermill": {
     "duration": 0.083691,
     "end_time": "2022-05-16T05:43:37.287372",
     "exception": false,
     "start_time": "2022-05-16T05:43:37.203681",
     "status": "completed"
    },
    "tags": []
   },
   "outputs": [
    {
     "name": "stdout",
     "output_type": "stream",
     "text": [
      "<class 'pandas.core.frame.DataFrame'>\n",
      "RangeIndex: 1470 entries, 0 to 1469\n",
      "Data columns (total 35 columns):\n",
      " #   Column                    Non-Null Count  Dtype \n",
      "---  ------                    --------------  ----- \n",
      " 0   Age                       1470 non-null   int64 \n",
      " 1   Attrition                 1470 non-null   object\n",
      " 2   BusinessTravel            1470 non-null   object\n",
      " 3   DailyRate                 1470 non-null   int64 \n",
      " 4   Department                1470 non-null   object\n",
      " 5   DistanceFromHome          1470 non-null   int64 \n",
      " 6   Education                 1470 non-null   int64 \n",
      " 7   EducationField            1470 non-null   object\n",
      " 8   EmployeeCount             1470 non-null   int64 \n",
      " 9   EmployeeNumber            1470 non-null   int64 \n",
      " 10  EnvironmentSatisfaction   1470 non-null   int64 \n",
      " 11  Gender                    1470 non-null   object\n",
      " 12  HourlyRate                1470 non-null   int64 \n",
      " 13  JobInvolvement            1470 non-null   int64 \n",
      " 14  JobLevel                  1470 non-null   int64 \n",
      " 15  JobRole                   1470 non-null   object\n",
      " 16  JobSatisfaction           1470 non-null   int64 \n",
      " 17  MaritalStatus             1470 non-null   object\n",
      " 18  MonthlyIncome             1470 non-null   int64 \n",
      " 19  MonthlyRate               1470 non-null   int64 \n",
      " 20  NumCompaniesWorked        1470 non-null   int64 \n",
      " 21  Over18                    1470 non-null   object\n",
      " 22  OverTime                  1470 non-null   object\n",
      " 23  PercentSalaryHike         1470 non-null   int64 \n",
      " 24  PerformanceRating         1470 non-null   int64 \n",
      " 25  RelationshipSatisfaction  1470 non-null   int64 \n",
      " 26  StandardHours             1470 non-null   int64 \n",
      " 27  StockOptionLevel          1470 non-null   int64 \n",
      " 28  TotalWorkingYears         1470 non-null   int64 \n",
      " 29  TrainingTimesLastYear     1470 non-null   int64 \n",
      " 30  WorkLifeBalance           1470 non-null   int64 \n",
      " 31  YearsAtCompany            1470 non-null   int64 \n",
      " 32  YearsInCurrentRole        1470 non-null   int64 \n",
      " 33  YearsSinceLastPromotion   1470 non-null   int64 \n",
      " 34  YearsWithCurrManager      1470 non-null   int64 \n",
      "dtypes: int64(26), object(9)\n",
      "memory usage: 402.1+ KB\n"
     ]
    }
   ],
   "source": [
    "df.info()"
   ]
  },
  {
   "cell_type": "code",
   "execution_count": 4,
   "id": "bdbf4772",
   "metadata": {
    "execution": {
     "iopub.execute_input": "2022-05-16T05:43:37.398619Z",
     "iopub.status.busy": "2022-05-16T05:43:37.398113Z",
     "iopub.status.idle": "2022-05-16T05:43:37.506096Z",
     "shell.execute_reply": "2022-05-16T05:43:37.505064Z"
    },
    "papermill": {
     "duration": 0.16923,
     "end_time": "2022-05-16T05:43:37.508514",
     "exception": false,
     "start_time": "2022-05-16T05:43:37.339284",
     "status": "completed"
    },
    "tags": []
   },
   "outputs": [
    {
     "data": {
      "text/html": [
       "<div>\n",
       "<style scoped>\n",
       "    .dataframe tbody tr th:only-of-type {\n",
       "        vertical-align: middle;\n",
       "    }\n",
       "\n",
       "    .dataframe tbody tr th {\n",
       "        vertical-align: top;\n",
       "    }\n",
       "\n",
       "    .dataframe thead th {\n",
       "        text-align: right;\n",
       "    }\n",
       "</style>\n",
       "<table border=\"1\" class=\"dataframe\">\n",
       "  <thead>\n",
       "    <tr style=\"text-align: right;\">\n",
       "      <th></th>\n",
       "      <th>count</th>\n",
       "      <th>mean</th>\n",
       "      <th>std</th>\n",
       "      <th>min</th>\n",
       "      <th>25%</th>\n",
       "      <th>50%</th>\n",
       "      <th>75%</th>\n",
       "      <th>max</th>\n",
       "    </tr>\n",
       "  </thead>\n",
       "  <tbody>\n",
       "    <tr>\n",
       "      <th>Age</th>\n",
       "      <td>1470.0</td>\n",
       "      <td>36.923810</td>\n",
       "      <td>9.135373</td>\n",
       "      <td>18.0</td>\n",
       "      <td>30.00</td>\n",
       "      <td>36.0</td>\n",
       "      <td>43.00</td>\n",
       "      <td>60.0</td>\n",
       "    </tr>\n",
       "    <tr>\n",
       "      <th>DailyRate</th>\n",
       "      <td>1470.0</td>\n",
       "      <td>802.485714</td>\n",
       "      <td>403.509100</td>\n",
       "      <td>102.0</td>\n",
       "      <td>465.00</td>\n",
       "      <td>802.0</td>\n",
       "      <td>1157.00</td>\n",
       "      <td>1499.0</td>\n",
       "    </tr>\n",
       "    <tr>\n",
       "      <th>DistanceFromHome</th>\n",
       "      <td>1470.0</td>\n",
       "      <td>9.192517</td>\n",
       "      <td>8.106864</td>\n",
       "      <td>1.0</td>\n",
       "      <td>2.00</td>\n",
       "      <td>7.0</td>\n",
       "      <td>14.00</td>\n",
       "      <td>29.0</td>\n",
       "    </tr>\n",
       "    <tr>\n",
       "      <th>Education</th>\n",
       "      <td>1470.0</td>\n",
       "      <td>2.912925</td>\n",
       "      <td>1.024165</td>\n",
       "      <td>1.0</td>\n",
       "      <td>2.00</td>\n",
       "      <td>3.0</td>\n",
       "      <td>4.00</td>\n",
       "      <td>5.0</td>\n",
       "    </tr>\n",
       "    <tr>\n",
       "      <th>EmployeeCount</th>\n",
       "      <td>1470.0</td>\n",
       "      <td>1.000000</td>\n",
       "      <td>0.000000</td>\n",
       "      <td>1.0</td>\n",
       "      <td>1.00</td>\n",
       "      <td>1.0</td>\n",
       "      <td>1.00</td>\n",
       "      <td>1.0</td>\n",
       "    </tr>\n",
       "    <tr>\n",
       "      <th>EmployeeNumber</th>\n",
       "      <td>1470.0</td>\n",
       "      <td>1024.865306</td>\n",
       "      <td>602.024335</td>\n",
       "      <td>1.0</td>\n",
       "      <td>491.25</td>\n",
       "      <td>1020.5</td>\n",
       "      <td>1555.75</td>\n",
       "      <td>2068.0</td>\n",
       "    </tr>\n",
       "    <tr>\n",
       "      <th>EnvironmentSatisfaction</th>\n",
       "      <td>1470.0</td>\n",
       "      <td>2.721769</td>\n",
       "      <td>1.093082</td>\n",
       "      <td>1.0</td>\n",
       "      <td>2.00</td>\n",
       "      <td>3.0</td>\n",
       "      <td>4.00</td>\n",
       "      <td>4.0</td>\n",
       "    </tr>\n",
       "    <tr>\n",
       "      <th>HourlyRate</th>\n",
       "      <td>1470.0</td>\n",
       "      <td>65.891156</td>\n",
       "      <td>20.329428</td>\n",
       "      <td>30.0</td>\n",
       "      <td>48.00</td>\n",
       "      <td>66.0</td>\n",
       "      <td>83.75</td>\n",
       "      <td>100.0</td>\n",
       "    </tr>\n",
       "    <tr>\n",
       "      <th>JobInvolvement</th>\n",
       "      <td>1470.0</td>\n",
       "      <td>2.729932</td>\n",
       "      <td>0.711561</td>\n",
       "      <td>1.0</td>\n",
       "      <td>2.00</td>\n",
       "      <td>3.0</td>\n",
       "      <td>3.00</td>\n",
       "      <td>4.0</td>\n",
       "    </tr>\n",
       "    <tr>\n",
       "      <th>JobLevel</th>\n",
       "      <td>1470.0</td>\n",
       "      <td>2.063946</td>\n",
       "      <td>1.106940</td>\n",
       "      <td>1.0</td>\n",
       "      <td>1.00</td>\n",
       "      <td>2.0</td>\n",
       "      <td>3.00</td>\n",
       "      <td>5.0</td>\n",
       "    </tr>\n",
       "    <tr>\n",
       "      <th>JobSatisfaction</th>\n",
       "      <td>1470.0</td>\n",
       "      <td>2.728571</td>\n",
       "      <td>1.102846</td>\n",
       "      <td>1.0</td>\n",
       "      <td>2.00</td>\n",
       "      <td>3.0</td>\n",
       "      <td>4.00</td>\n",
       "      <td>4.0</td>\n",
       "    </tr>\n",
       "    <tr>\n",
       "      <th>MonthlyIncome</th>\n",
       "      <td>1470.0</td>\n",
       "      <td>6502.931293</td>\n",
       "      <td>4707.956783</td>\n",
       "      <td>1009.0</td>\n",
       "      <td>2911.00</td>\n",
       "      <td>4919.0</td>\n",
       "      <td>8379.00</td>\n",
       "      <td>19999.0</td>\n",
       "    </tr>\n",
       "    <tr>\n",
       "      <th>MonthlyRate</th>\n",
       "      <td>1470.0</td>\n",
       "      <td>14313.103401</td>\n",
       "      <td>7117.786044</td>\n",
       "      <td>2094.0</td>\n",
       "      <td>8047.00</td>\n",
       "      <td>14235.5</td>\n",
       "      <td>20461.50</td>\n",
       "      <td>26999.0</td>\n",
       "    </tr>\n",
       "    <tr>\n",
       "      <th>NumCompaniesWorked</th>\n",
       "      <td>1470.0</td>\n",
       "      <td>2.693197</td>\n",
       "      <td>2.498009</td>\n",
       "      <td>0.0</td>\n",
       "      <td>1.00</td>\n",
       "      <td>2.0</td>\n",
       "      <td>4.00</td>\n",
       "      <td>9.0</td>\n",
       "    </tr>\n",
       "    <tr>\n",
       "      <th>PercentSalaryHike</th>\n",
       "      <td>1470.0</td>\n",
       "      <td>15.209524</td>\n",
       "      <td>3.659938</td>\n",
       "      <td>11.0</td>\n",
       "      <td>12.00</td>\n",
       "      <td>14.0</td>\n",
       "      <td>18.00</td>\n",
       "      <td>25.0</td>\n",
       "    </tr>\n",
       "    <tr>\n",
       "      <th>PerformanceRating</th>\n",
       "      <td>1470.0</td>\n",
       "      <td>3.153741</td>\n",
       "      <td>0.360824</td>\n",
       "      <td>3.0</td>\n",
       "      <td>3.00</td>\n",
       "      <td>3.0</td>\n",
       "      <td>3.00</td>\n",
       "      <td>4.0</td>\n",
       "    </tr>\n",
       "    <tr>\n",
       "      <th>RelationshipSatisfaction</th>\n",
       "      <td>1470.0</td>\n",
       "      <td>2.712245</td>\n",
       "      <td>1.081209</td>\n",
       "      <td>1.0</td>\n",
       "      <td>2.00</td>\n",
       "      <td>3.0</td>\n",
       "      <td>4.00</td>\n",
       "      <td>4.0</td>\n",
       "    </tr>\n",
       "    <tr>\n",
       "      <th>StandardHours</th>\n",
       "      <td>1470.0</td>\n",
       "      <td>80.000000</td>\n",
       "      <td>0.000000</td>\n",
       "      <td>80.0</td>\n",
       "      <td>80.00</td>\n",
       "      <td>80.0</td>\n",
       "      <td>80.00</td>\n",
       "      <td>80.0</td>\n",
       "    </tr>\n",
       "    <tr>\n",
       "      <th>StockOptionLevel</th>\n",
       "      <td>1470.0</td>\n",
       "      <td>0.793878</td>\n",
       "      <td>0.852077</td>\n",
       "      <td>0.0</td>\n",
       "      <td>0.00</td>\n",
       "      <td>1.0</td>\n",
       "      <td>1.00</td>\n",
       "      <td>3.0</td>\n",
       "    </tr>\n",
       "    <tr>\n",
       "      <th>TotalWorkingYears</th>\n",
       "      <td>1470.0</td>\n",
       "      <td>11.279592</td>\n",
       "      <td>7.780782</td>\n",
       "      <td>0.0</td>\n",
       "      <td>6.00</td>\n",
       "      <td>10.0</td>\n",
       "      <td>15.00</td>\n",
       "      <td>40.0</td>\n",
       "    </tr>\n",
       "    <tr>\n",
       "      <th>TrainingTimesLastYear</th>\n",
       "      <td>1470.0</td>\n",
       "      <td>2.799320</td>\n",
       "      <td>1.289271</td>\n",
       "      <td>0.0</td>\n",
       "      <td>2.00</td>\n",
       "      <td>3.0</td>\n",
       "      <td>3.00</td>\n",
       "      <td>6.0</td>\n",
       "    </tr>\n",
       "    <tr>\n",
       "      <th>WorkLifeBalance</th>\n",
       "      <td>1470.0</td>\n",
       "      <td>2.761224</td>\n",
       "      <td>0.706476</td>\n",
       "      <td>1.0</td>\n",
       "      <td>2.00</td>\n",
       "      <td>3.0</td>\n",
       "      <td>3.00</td>\n",
       "      <td>4.0</td>\n",
       "    </tr>\n",
       "    <tr>\n",
       "      <th>YearsAtCompany</th>\n",
       "      <td>1470.0</td>\n",
       "      <td>7.008163</td>\n",
       "      <td>6.126525</td>\n",
       "      <td>0.0</td>\n",
       "      <td>3.00</td>\n",
       "      <td>5.0</td>\n",
       "      <td>9.00</td>\n",
       "      <td>40.0</td>\n",
       "    </tr>\n",
       "    <tr>\n",
       "      <th>YearsInCurrentRole</th>\n",
       "      <td>1470.0</td>\n",
       "      <td>4.229252</td>\n",
       "      <td>3.623137</td>\n",
       "      <td>0.0</td>\n",
       "      <td>2.00</td>\n",
       "      <td>3.0</td>\n",
       "      <td>7.00</td>\n",
       "      <td>18.0</td>\n",
       "    </tr>\n",
       "    <tr>\n",
       "      <th>YearsSinceLastPromotion</th>\n",
       "      <td>1470.0</td>\n",
       "      <td>2.187755</td>\n",
       "      <td>3.222430</td>\n",
       "      <td>0.0</td>\n",
       "      <td>0.00</td>\n",
       "      <td>1.0</td>\n",
       "      <td>3.00</td>\n",
       "      <td>15.0</td>\n",
       "    </tr>\n",
       "    <tr>\n",
       "      <th>YearsWithCurrManager</th>\n",
       "      <td>1470.0</td>\n",
       "      <td>4.123129</td>\n",
       "      <td>3.568136</td>\n",
       "      <td>0.0</td>\n",
       "      <td>2.00</td>\n",
       "      <td>3.0</td>\n",
       "      <td>7.00</td>\n",
       "      <td>17.0</td>\n",
       "    </tr>\n",
       "  </tbody>\n",
       "</table>\n",
       "</div>"
      ],
      "text/plain": [
       "                           count          mean          std     min      25%  \\\n",
       "Age                       1470.0     36.923810     9.135373    18.0    30.00   \n",
       "DailyRate                 1470.0    802.485714   403.509100   102.0   465.00   \n",
       "DistanceFromHome          1470.0      9.192517     8.106864     1.0     2.00   \n",
       "Education                 1470.0      2.912925     1.024165     1.0     2.00   \n",
       "EmployeeCount             1470.0      1.000000     0.000000     1.0     1.00   \n",
       "EmployeeNumber            1470.0   1024.865306   602.024335     1.0   491.25   \n",
       "EnvironmentSatisfaction   1470.0      2.721769     1.093082     1.0     2.00   \n",
       "HourlyRate                1470.0     65.891156    20.329428    30.0    48.00   \n",
       "JobInvolvement            1470.0      2.729932     0.711561     1.0     2.00   \n",
       "JobLevel                  1470.0      2.063946     1.106940     1.0     1.00   \n",
       "JobSatisfaction           1470.0      2.728571     1.102846     1.0     2.00   \n",
       "MonthlyIncome             1470.0   6502.931293  4707.956783  1009.0  2911.00   \n",
       "MonthlyRate               1470.0  14313.103401  7117.786044  2094.0  8047.00   \n",
       "NumCompaniesWorked        1470.0      2.693197     2.498009     0.0     1.00   \n",
       "PercentSalaryHike         1470.0     15.209524     3.659938    11.0    12.00   \n",
       "PerformanceRating         1470.0      3.153741     0.360824     3.0     3.00   \n",
       "RelationshipSatisfaction  1470.0      2.712245     1.081209     1.0     2.00   \n",
       "StandardHours             1470.0     80.000000     0.000000    80.0    80.00   \n",
       "StockOptionLevel          1470.0      0.793878     0.852077     0.0     0.00   \n",
       "TotalWorkingYears         1470.0     11.279592     7.780782     0.0     6.00   \n",
       "TrainingTimesLastYear     1470.0      2.799320     1.289271     0.0     2.00   \n",
       "WorkLifeBalance           1470.0      2.761224     0.706476     1.0     2.00   \n",
       "YearsAtCompany            1470.0      7.008163     6.126525     0.0     3.00   \n",
       "YearsInCurrentRole        1470.0      4.229252     3.623137     0.0     2.00   \n",
       "YearsSinceLastPromotion   1470.0      2.187755     3.222430     0.0     0.00   \n",
       "YearsWithCurrManager      1470.0      4.123129     3.568136     0.0     2.00   \n",
       "\n",
       "                              50%       75%      max  \n",
       "Age                          36.0     43.00     60.0  \n",
       "DailyRate                   802.0   1157.00   1499.0  \n",
       "DistanceFromHome              7.0     14.00     29.0  \n",
       "Education                     3.0      4.00      5.0  \n",
       "EmployeeCount                 1.0      1.00      1.0  \n",
       "EmployeeNumber             1020.5   1555.75   2068.0  \n",
       "EnvironmentSatisfaction       3.0      4.00      4.0  \n",
       "HourlyRate                   66.0     83.75    100.0  \n",
       "JobInvolvement                3.0      3.00      4.0  \n",
       "JobLevel                      2.0      3.00      5.0  \n",
       "JobSatisfaction               3.0      4.00      4.0  \n",
       "MonthlyIncome              4919.0   8379.00  19999.0  \n",
       "MonthlyRate               14235.5  20461.50  26999.0  \n",
       "NumCompaniesWorked            2.0      4.00      9.0  \n",
       "PercentSalaryHike            14.0     18.00     25.0  \n",
       "PerformanceRating             3.0      3.00      4.0  \n",
       "RelationshipSatisfaction      3.0      4.00      4.0  \n",
       "StandardHours                80.0     80.00     80.0  \n",
       "StockOptionLevel              1.0      1.00      3.0  \n",
       "TotalWorkingYears            10.0     15.00     40.0  \n",
       "TrainingTimesLastYear         3.0      3.00      6.0  \n",
       "WorkLifeBalance               3.0      3.00      4.0  \n",
       "YearsAtCompany                5.0      9.00     40.0  \n",
       "YearsInCurrentRole            3.0      7.00     18.0  \n",
       "YearsSinceLastPromotion       1.0      3.00     15.0  \n",
       "YearsWithCurrManager          3.0      7.00     17.0  "
      ]
     },
     "execution_count": 4,
     "metadata": {},
     "output_type": "execute_result"
    }
   ],
   "source": [
    "df.describe().T"
   ]
  },
  {
   "cell_type": "code",
   "execution_count": 5,
   "id": "eba35aa7",
   "metadata": {
    "execution": {
     "iopub.execute_input": "2022-05-16T05:43:37.616023Z",
     "iopub.status.busy": "2022-05-16T05:43:37.615753Z",
     "iopub.status.idle": "2022-05-16T05:43:37.627404Z",
     "shell.execute_reply": "2022-05-16T05:43:37.626770Z"
    },
    "papermill": {
     "duration": 0.068531,
     "end_time": "2022-05-16T05:43:37.630053",
     "exception": false,
     "start_time": "2022-05-16T05:43:37.561522",
     "status": "completed"
    },
    "tags": []
   },
   "outputs": [
    {
     "data": {
      "text/plain": [
       "Age                         0\n",
       "Attrition                   0\n",
       "BusinessTravel              0\n",
       "DailyRate                   0\n",
       "Department                  0\n",
       "DistanceFromHome            0\n",
       "Education                   0\n",
       "EducationField              0\n",
       "EmployeeCount               0\n",
       "EmployeeNumber              0\n",
       "EnvironmentSatisfaction     0\n",
       "Gender                      0\n",
       "HourlyRate                  0\n",
       "JobInvolvement              0\n",
       "JobLevel                    0\n",
       "JobRole                     0\n",
       "JobSatisfaction             0\n",
       "MaritalStatus               0\n",
       "MonthlyIncome               0\n",
       "MonthlyRate                 0\n",
       "NumCompaniesWorked          0\n",
       "Over18                      0\n",
       "OverTime                    0\n",
       "PercentSalaryHike           0\n",
       "PerformanceRating           0\n",
       "RelationshipSatisfaction    0\n",
       "StandardHours               0\n",
       "StockOptionLevel            0\n",
       "TotalWorkingYears           0\n",
       "TrainingTimesLastYear       0\n",
       "WorkLifeBalance             0\n",
       "YearsAtCompany              0\n",
       "YearsInCurrentRole          0\n",
       "YearsSinceLastPromotion     0\n",
       "YearsWithCurrManager        0\n",
       "dtype: int64"
      ]
     },
     "execution_count": 5,
     "metadata": {},
     "output_type": "execute_result"
    }
   ],
   "source": [
    "df.isnull().sum()"
   ]
  },
  {
   "cell_type": "code",
   "execution_count": 6,
   "id": "e9e8599e",
   "metadata": {
    "execution": {
     "iopub.execute_input": "2022-05-16T05:43:37.739388Z",
     "iopub.status.busy": "2022-05-16T05:43:37.739113Z",
     "iopub.status.idle": "2022-05-16T05:43:37.744735Z",
     "shell.execute_reply": "2022-05-16T05:43:37.743916Z"
    },
    "papermill": {
     "duration": 0.061255,
     "end_time": "2022-05-16T05:43:37.746656",
     "exception": false,
     "start_time": "2022-05-16T05:43:37.685401",
     "status": "completed"
    },
    "tags": []
   },
   "outputs": [],
   "source": [
    "df = df[['Age', 'Gender', 'Attrition', 'Department', 'DistanceFromHome', 'Education', 'EducationField', 'EnvironmentSatisfaction', \n",
    "         'JobSatisfaction','MaritalStatus', 'MonthlyIncome', 'NumCompaniesWorked','WorkLifeBalance', 'YearsAtCompany']]"
   ]
  },
  {
   "cell_type": "markdown",
   "id": "eaba06c5",
   "metadata": {
    "papermill": {
     "duration": 0.05219,
     "end_time": "2022-05-16T05:43:37.852883",
     "exception": false,
     "start_time": "2022-05-16T05:43:37.800693",
     "status": "completed"
    },
    "tags": []
   },
   "source": [
    "# **(1) Find the age distribution of employees in IBM**"
   ]
  },
  {
   "cell_type": "code",
   "execution_count": 7,
   "id": "7b0605bd",
   "metadata": {
    "execution": {
     "iopub.execute_input": "2022-05-16T05:43:37.959330Z",
     "iopub.status.busy": "2022-05-16T05:43:37.958863Z",
     "iopub.status.idle": "2022-05-16T05:43:38.348865Z",
     "shell.execute_reply": "2022-05-16T05:43:38.348110Z"
    },
    "papermill": {
     "duration": 0.446019,
     "end_time": "2022-05-16T05:43:38.350978",
     "exception": false,
     "start_time": "2022-05-16T05:43:37.904959",
     "status": "completed"
    },
    "tags": []
   },
   "outputs": [
    {
     "data": {
      "image/png": "[encoded data removed]",
      "text/plain": [
       "<Figure size 800x480 with 1 Axes>"
      ]
     },
     "metadata": {
      "needs_background": "light"
     },
     "output_type": "display_data"
    }
   ],
   "source": [
    "# histogram for age\n",
    "\n",
    "plt.figure(figsize=(10,6), dpi=80)\n",
    "sns.histplot(data=df, x='Age', bins=42, kde=True).set_title('Age Distribution of Employee');"
   ]
  },
  {
   "cell_type": "markdown",
   "id": "4d1b1d3d",
   "metadata": {
    "papermill": {
     "duration": 0.053971,
     "end_time": "2022-05-16T05:43:38.459247",
     "exception": false,
     "start_time": "2022-05-16T05:43:38.405276",
     "status": "completed"
    },
    "tags": []
   },
   "source": [
    "# **(2) Explore attrition by age**"
   ]
  },
  {
   "cell_type": "code",
   "execution_count": 8,
   "id": "006e6944",
   "metadata": {
    "execution": {
     "iopub.execute_input": "2022-05-16T05:43:38.569468Z",
     "iopub.status.busy": "2022-05-16T05:43:38.568987Z",
     "iopub.status.idle": "2022-05-16T05:43:39.350807Z",
     "shell.execute_reply": "2022-05-16T05:43:39.349453Z"
    },
    "papermill": {
     "duration": 0.839144,
     "end_time": "2022-05-16T05:43:39.353029",
     "exception": false,
     "start_time": "2022-05-16T05:43:38.513885",
     "status": "completed"
    },
    "tags": []
   },
   "outputs": [
    {
     "data": {
      "image/png": "[encoded data removed]",
      "text/plain": [
       "<Figure size 1120x480 with 1 Axes>"
      ]
     },
     "metadata": {
      "needs_background": "light"
     },
     "output_type": "display_data"
    }
   ],
   "source": [
    "# print(df[(df['Attrition'] == 'Yes')].groupby('Age')['Age'].count().sort_values(ascending=False))\n",
    "\n",
    "plt.figure(figsize=(14,6), dpi=80)\n",
    "sns.countplot(data=df, x='Age', hue='Attrition', order = df['Age'].value_counts().index, palette='seismic_r').set_title\n",
    "('Attrition by Age');"
   ]
  },
  {
   "cell_type": "markdown",
   "id": "5c0397f2",
   "metadata": {
    "papermill": {
     "duration": 0.055896,
     "end_time": "2022-05-16T05:43:39.465567",
     "exception": false,
     "start_time": "2022-05-16T05:43:39.409671",
     "status": "completed"
    },
    "tags": []
   },
   "source": [
    "# **(3) Explore Attrition by Gender**"
   ]
  },
  {
   "cell_type": "code",
   "execution_count": 9,
   "id": "43a107a7",
   "metadata": {
    "execution": {
     "iopub.execute_input": "2022-05-16T05:43:39.578999Z",
     "iopub.status.busy": "2022-05-16T05:43:39.578285Z",
     "iopub.status.idle": "2022-05-16T05:43:39.791890Z",
     "shell.execute_reply": "2022-05-16T05:43:39.791222Z"
    },
    "papermill": {
     "duration": 0.272169,
     "end_time": "2022-05-16T05:43:39.793919",
     "exception": false,
     "start_time": "2022-05-16T05:43:39.521750",
     "status": "completed"
    },
    "tags": []
   },
   "outputs": [
    {
     "data": {
      "image/png": "[encoded data removed]",
      "text/plain": [
       "<Figure size 640x400 with 1 Axes>"
      ]
     },
     "metadata": {
      "needs_background": "light"
     },
     "output_type": "display_data"
    }
   ],
   "source": [
    "# print(df[(df['Attrition'] == 'Yes')].groupby('Gender')['Gender'].count().sort_values(ascending=False))\n",
    "\n",
    "plt.figure(figsize=(8,5), dpi=80)\n",
    "sns.countplot(data=df, x='Gender', hue='Attrition', order = df['Gender'].value_counts().index, palette='seismic_r').set_title\n",
    "('Attrition by Gender');"
   ]
  },
  {
   "cell_type": "markdown",
   "id": "7dd59f9c",
   "metadata": {
    "papermill": {
     "duration": 0.055058,
     "end_time": "2022-05-16T05:43:39.904131",
     "exception": false,
     "start_time": "2022-05-16T05:43:39.849073",
     "status": "completed"
    },
    "tags": []
   },
   "source": [
    "# **(4) Explore data for Left employees**"
   ]
  },
  {
   "cell_type": "code",
   "execution_count": 10,
   "id": "c89ade68",
   "metadata": {
    "execution": {
     "iopub.execute_input": "2022-05-16T05:43:40.016540Z",
     "iopub.status.busy": "2022-05-16T05:43:40.016132Z",
     "iopub.status.idle": "2022-05-16T05:43:40.192691Z",
     "shell.execute_reply": "2022-05-16T05:43:40.191433Z"
    },
    "papermill": {
     "duration": 0.235674,
     "end_time": "2022-05-16T05:43:40.195028",
     "exception": false,
     "start_time": "2022-05-16T05:43:39.959354",
     "status": "completed"
    },
    "tags": []
   },
   "outputs": [
    {
     "name": "stdout",
     "output_type": "stream",
     "text": [
      "Attrition\n",
      "No     1233\n",
      "Yes     237\n",
      "Name: Attrition, dtype: int64\n"
     ]
    },
    {
     "data": {
      "image/png": "[encoded data removed]",
      "text/plain": [
       "<Figure size 400x320 with 1 Axes>"
      ]
     },
     "metadata": {
      "needs_background": "light"
     },
     "output_type": "display_data"
    }
   ],
   "source": [
    "print(df.groupby('Attrition')['Attrition'].count())\n",
    "\n",
    "plt.figure(figsize=(5,4), dpi=80)\n",
    "sns.countplot(data=df, x='Attrition', palette='seismic_r');"
   ]
  },
  {
   "cell_type": "code",
   "execution_count": 11,
   "id": "4f79f012",
   "metadata": {
    "execution": {
     "iopub.execute_input": "2022-05-16T05:43:40.314371Z",
     "iopub.status.busy": "2022-05-16T05:43:40.313822Z",
     "iopub.status.idle": "2022-05-16T05:43:40.515520Z",
     "shell.execute_reply": "2022-05-16T05:43:40.514481Z"
    },
    "papermill": {
     "duration": 0.26464,
     "end_time": "2022-05-16T05:43:40.517838",
     "exception": false,
     "start_time": "2022-05-16T05:43:40.253198",
     "status": "completed"
    },
    "tags": []
   },
   "outputs": [
    {
     "data": {
      "image/png": "[encoded data removed]",
      "text/plain": [
       "<Figure size 640x400 with 1 Axes>"
      ]
     },
     "metadata": {
      "needs_background": "light"
     },
     "output_type": "display_data"
    }
   ],
   "source": [
    "# print(df[(df['Attrition'] == 'Yes')].groupby('Department')['Attrition'].count().sort_values(ascending=False))\n",
    "\n",
    "plt.figure(figsize=(8,5), dpi=80)\n",
    "sns.countplot(data=df[(df['Attrition'] == 'Yes')], x='Department', palette='cubehelix', order = df['Department']\n",
    "              .value_counts().index).set_title('Attrition by Department');"
   ]
  },
  {
   "cell_type": "code",
   "execution_count": 12,
   "id": "0d009996",
   "metadata": {
    "execution": {
     "iopub.execute_input": "2022-05-16T05:43:40.636924Z",
     "iopub.status.busy": "2022-05-16T05:43:40.636432Z",
     "iopub.status.idle": "2022-05-16T05:43:40.647418Z",
     "shell.execute_reply": "2022-05-16T05:43:40.646589Z"
    },
    "papermill": {
     "duration": 0.073316,
     "end_time": "2022-05-16T05:43:40.649729",
     "exception": false,
     "start_time": "2022-05-16T05:43:40.576413",
     "status": "completed"
    },
    "tags": []
   },
   "outputs": [],
   "source": [
    "agerange = []\n",
    "for age in df[\"Age\"]:\n",
    "    if age >= 18 and age < 24:\n",
    "        agerange.append(\"18-24\")\n",
    "    elif age >= 25 and age < 31:\n",
    "        agerange.append(\"25-31\")\n",
    "    elif age >= 32 and age < 38:\n",
    "        agerange.append(\"32-38\")\n",
    "    elif age >= 39 and age < 45:\n",
    "        agerange.append(\"39-45\")\n",
    "    elif age >= 46 and age < 52:\n",
    "        agerange.append(\"46-52\")\n",
    "    elif age >= 53 and age < 59:\n",
    "        agerange.append(\"53-59\")\n",
    "    else:\n",
    "        agerange.append(\"60-66\")\n",
    "       \n",
    "df[\"AgeRange\"] = agerange"
   ]
  },
  {
   "cell_type": "code",
   "execution_count": 13,
   "id": "096d27d5",
   "metadata": {
    "execution": {
     "iopub.execute_input": "2022-05-16T05:43:40.768462Z",
     "iopub.status.busy": "2022-05-16T05:43:40.768202Z",
     "iopub.status.idle": "2022-05-16T05:43:40.784799Z",
     "shell.execute_reply": "2022-05-16T05:43:40.783955Z"
    },
    "papermill": {
     "duration": 0.07925,
     "end_time": "2022-05-16T05:43:40.787415",
     "exception": false,
     "start_time": "2022-05-16T05:43:40.708165",
     "status": "completed"
    },
    "tags": []
   },
   "outputs": [
    {
     "data": {
      "text/html": [
       "<div>\n",
       "<style scoped>\n",
       "    .dataframe tbody tr th:only-of-type {\n",
       "        vertical-align: middle;\n",
       "    }\n",
       "\n",
       "    .dataframe tbody tr th {\n",
       "        vertical-align: top;\n",
       "    }\n",
       "\n",
       "    .dataframe thead th {\n",
       "        text-align: right;\n",
       "    }\n",
       "</style>\n",
       "<table border=\"1\" class=\"dataframe\">\n",
       "  <thead>\n",
       "    <tr style=\"text-align: right;\">\n",
       "      <th></th>\n",
       "      <th>Age</th>\n",
       "      <th>Gender</th>\n",
       "      <th>Attrition</th>\n",
       "      <th>Department</th>\n",
       "      <th>DistanceFromHome</th>\n",
       "      <th>Education</th>\n",
       "      <th>EducationField</th>\n",
       "      <th>EnvironmentSatisfaction</th>\n",
       "      <th>JobSatisfaction</th>\n",
       "      <th>MaritalStatus</th>\n",
       "      <th>MonthlyIncome</th>\n",
       "      <th>NumCompaniesWorked</th>\n",
       "      <th>WorkLifeBalance</th>\n",
       "      <th>YearsAtCompany</th>\n",
       "      <th>AgeRange</th>\n",
       "    </tr>\n",
       "  </thead>\n",
       "  <tbody>\n",
       "    <tr>\n",
       "      <th>0</th>\n",
       "      <td>41</td>\n",
       "      <td>Female</td>\n",
       "      <td>Yes</td>\n",
       "      <td>Sales</td>\n",
       "      <td>1</td>\n",
       "      <td>2</td>\n",
       "      <td>Life Sciences</td>\n",
       "      <td>2</td>\n",
       "      <td>4</td>\n",
       "      <td>Single</td>\n",
       "      <td>5993</td>\n",
       "      <td>8</td>\n",
       "      <td>1</td>\n",
       "      <td>6</td>\n",
       "      <td>39-45</td>\n",
       "    </tr>\n",
       "    <tr>\n",
       "      <th>1</th>\n",
       "      <td>49</td>\n",
       "      <td>Male</td>\n",
       "      <td>No</td>\n",
       "      <td>Research &amp; Development</td>\n",
       "      <td>8</td>\n",
       "      <td>1</td>\n",
       "      <td>Life Sciences</td>\n",
       "      <td>3</td>\n",
       "      <td>2</td>\n",
       "      <td>Married</td>\n",
       "      <td>5130</td>\n",
       "      <td>1</td>\n",
       "      <td>3</td>\n",
       "      <td>10</td>\n",
       "      <td>46-52</td>\n",
       "    </tr>\n",
       "    <tr>\n",
       "      <th>2</th>\n",
       "      <td>37</td>\n",
       "      <td>Male</td>\n",
       "      <td>Yes</td>\n",
       "      <td>Research &amp; Development</td>\n",
       "      <td>2</td>\n",
       "      <td>2</td>\n",
       "      <td>Other</td>\n",
       "      <td>4</td>\n",
       "      <td>3</td>\n",
       "      <td>Single</td>\n",
       "      <td>2090</td>\n",
       "      <td>6</td>\n",
       "      <td>3</td>\n",
       "      <td>0</td>\n",
       "      <td>32-38</td>\n",
       "    </tr>\n",
       "    <tr>\n",
       "      <th>3</th>\n",
       "      <td>33</td>\n",
       "      <td>Female</td>\n",
       "      <td>No</td>\n",
       "      <td>Research &amp; Development</td>\n",
       "      <td>3</td>\n",
       "      <td>4</td>\n",
       "      <td>Life Sciences</td>\n",
       "      <td>4</td>\n",
       "      <td>3</td>\n",
       "      <td>Married</td>\n",
       "      <td>2909</td>\n",
       "      <td>1</td>\n",
       "      <td>3</td>\n",
       "      <td>8</td>\n",
       "      <td>32-38</td>\n",
       "    </tr>\n",
       "    <tr>\n",
       "      <th>4</th>\n",
       "      <td>27</td>\n",
       "      <td>Male</td>\n",
       "      <td>No</td>\n",
       "      <td>Research &amp; Development</td>\n",
       "      <td>2</td>\n",
       "      <td>1</td>\n",
       "      <td>Medical</td>\n",
       "      <td>1</td>\n",
       "      <td>2</td>\n",
       "      <td>Married</td>\n",
       "      <td>3468</td>\n",
       "      <td>9</td>\n",
       "      <td>3</td>\n",
       "      <td>2</td>\n",
       "      <td>25-31</td>\n",
       "    </tr>\n",
       "  </tbody>\n",
       "</table>\n",
       "</div>"
      ],
      "text/plain": [
       "   Age  Gender Attrition              Department  DistanceFromHome  Education  \\\n",
       "0   41  Female       Yes                   Sales                 1          2   \n",
       "1   49    Male        No  Research & Development                 8          1   \n",
       "2   37    Male       Yes  Research & Development                 2          2   \n",
       "3   33  Female        No  Research & Development                 3          4   \n",
       "4   27    Male        No  Research & Development                 2          1   \n",
       "\n",
       "  EducationField  EnvironmentSatisfaction  JobSatisfaction MaritalStatus  \\\n",
       "0  Life Sciences                        2                4        Single   \n",
       "1  Life Sciences                        3                2       Married   \n",
       "2          Other                        4                3        Single   \n",
       "3  Life Sciences                        4                3       Married   \n",
       "4        Medical                        1                2       Married   \n",
       "\n",
       "   MonthlyIncome  NumCompaniesWorked  WorkLifeBalance  YearsAtCompany AgeRange  \n",
       "0           5993                   8                1               6    39-45  \n",
       "1           5130                   1                3              10    46-52  \n",
       "2           2090                   6                3               0    32-38  \n",
       "3           2909                   1                3               8    32-38  \n",
       "4           3468                   9                3               2    25-31  "
      ]
     },
     "execution_count": 13,
     "metadata": {},
     "output_type": "execute_result"
    }
   ],
   "source": [
    "df.head()"
   ]
  },
  {
   "cell_type": "code",
   "execution_count": 14,
   "id": "a9720997",
   "metadata": {
    "execution": {
     "iopub.execute_input": "2022-05-16T05:43:40.907200Z",
     "iopub.status.busy": "2022-05-16T05:43:40.906928Z",
     "iopub.status.idle": "2022-05-16T05:43:41.132484Z",
     "shell.execute_reply": "2022-05-16T05:43:41.131490Z"
    },
    "papermill": {
     "duration": 0.287977,
     "end_time": "2022-05-16T05:43:41.134619",
     "exception": false,
     "start_time": "2022-05-16T05:43:40.846642",
     "status": "completed"
    },
    "tags": []
   },
   "outputs": [
    {
     "data": {
      "image/png": "[encoded data removed]",
      "text/plain": [
       "<Figure size 640x400 with 1 Axes>"
      ]
     },
     "metadata": {
      "needs_background": "light"
     },
     "output_type": "display_data"
    }
   ],
   "source": [
    "# print(df[(df['Attrition'] == 'Yes')].groupby('AgeRange')['AgeRange'].count().sort_values(ascending=False))\n",
    "\n",
    "plt.figure(figsize=(8,5), dpi=80)\n",
    "sns.countplot(data=df[(df['Attrition'] == 'Yes')], x='AgeRange', palette='cubehelix').set_title('Attrition by Age Group');"
   ]
  },
  {
   "cell_type": "code",
   "execution_count": 15,
   "id": "aa9eb980",
   "metadata": {
    "execution": {
     "iopub.execute_input": "2022-05-16T05:43:41.256540Z",
     "iopub.status.busy": "2022-05-16T05:43:41.256237Z",
     "iopub.status.idle": "2022-05-16T05:43:41.462052Z",
     "shell.execute_reply": "2022-05-16T05:43:41.461092Z"
    },
    "papermill": {
     "duration": 0.269708,
     "end_time": "2022-05-16T05:43:41.464340",
     "exception": false,
     "start_time": "2022-05-16T05:43:41.194632",
     "status": "completed"
    },
    "tags": []
   },
   "outputs": [
    {
     "data": {
      "image/png": "[encoded data removed]",
      "text/plain": [
       "<Figure size 640x400 with 1 Axes>"
      ]
     },
     "metadata": {
      "needs_background": "light"
     },
     "output_type": "display_data"
    }
   ],
   "source": [
    "# print(df[(df['Attrition'] == 'Yes')].groupby('Education')['Attrition'].count().sort_values(ascending=False))\n",
    "\n",
    "plt.figure(figsize=(8,5),dpi=80)\n",
    "sns.countplot(data=df[(df['Attrition'] == 'Yes')], x='Education', order=df['Education'].value_counts().index, \n",
    "              palette='cubehelix').set_title('Attrition by Education');"
   ]
  },
  {
   "cell_type": "markdown",
   "id": "cd395971",
   "metadata": {
    "papermill": {
     "duration": 0.060682,
     "end_time": "2022-05-16T05:43:41.586342",
     "exception": false,
     "start_time": "2022-05-16T05:43:41.525660",
     "status": "completed"
    },
    "tags": []
   },
   "source": [
    "#### Education:\n",
    "\n",
    "#### 1 - Below College, 2 - College, 3 - Bachelor, 4 - Master, 5 - Doctor"
   ]
  },
  {
   "cell_type": "code",
   "execution_count": 16,
   "id": "f2b8f09c",
   "metadata": {
    "execution": {
     "iopub.execute_input": "2022-05-16T05:43:41.710017Z",
     "iopub.status.busy": "2022-05-16T05:43:41.709731Z",
     "iopub.status.idle": "2022-05-16T05:43:41.924536Z",
     "shell.execute_reply": "2022-05-16T05:43:41.923639Z"
    },
    "papermill": {
     "duration": 0.279359,
     "end_time": "2022-05-16T05:43:41.926813",
     "exception": false,
     "start_time": "2022-05-16T05:43:41.647454",
     "status": "completed"
    },
    "tags": []
   },
   "outputs": [
    {
     "data": {
      "image/png": "[encoded data removed]",
      "text/plain": [
       "<Figure size 640x400 with 1 Axes>"
      ]
     },
     "metadata": {
      "needs_background": "light"
     },
     "output_type": "display_data"
    }
   ],
   "source": [
    "# print(df[(df['Attrition'] == 'Yes')].groupby('EnvironmentSatisfaction')['Attrition'].count().sort_values(ascending=False))\n",
    "\n",
    "plt.figure(figsize=(8,5),dpi=80)\n",
    "sns.countplot(data=df[(df['Attrition'] == 'Yes')], x='EnvironmentSatisfaction', order=df['EnvironmentSatisfaction']\n",
    "              .value_counts().index, palette='cubehelix').set_title('Attrition by Environment Satisfaction');"
   ]
  },
  {
   "cell_type": "markdown",
   "id": "f17fe26c",
   "metadata": {
    "papermill": {
     "duration": 0.062494,
     "end_time": "2022-05-16T05:43:42.050296",
     "exception": false,
     "start_time": "2022-05-16T05:43:41.987802",
     "status": "completed"
    },
    "tags": []
   },
   "source": [
    "#### Environment Satisfaction: \n",
    "\n",
    "#### 1 - Low, 2 - Medium, 3 - High, 4 - Very High"
   ]
  },
  {
   "cell_type": "code",
   "execution_count": 17,
   "id": "df276c45",
   "metadata": {
    "execution": {
     "iopub.execute_input": "2022-05-16T05:43:42.174446Z",
     "iopub.status.busy": "2022-05-16T05:43:42.174191Z",
     "iopub.status.idle": "2022-05-16T05:43:42.497990Z",
     "shell.execute_reply": "2022-05-16T05:43:42.496971Z"
    },
    "papermill": {
     "duration": 0.388339,
     "end_time": "2022-05-16T05:43:42.500136",
     "exception": false,
     "start_time": "2022-05-16T05:43:42.111797",
     "status": "completed"
    },
    "tags": []
   },
   "outputs": [
    {
     "data": {
      "image/png": "[encoded data removed]",
      "text/plain": [
       "<Figure size 640x400 with 1 Axes>"
      ]
     },
     "metadata": {
      "needs_background": "light"
     },
     "output_type": "display_data"
    }
   ],
   "source": [
    "# print(df[(df['Attrition'] == 'Yes')].groupby('JobSatisfaction')['Attrition'].count().sort_values(ascending=False))\n",
    "\n",
    "plt.figure(figsize=(8,5),dpi=80)\n",
    "sns.countplot(data=df[(df['Attrition'] == 'Yes')], x='JobSatisfaction', order=df['JobSatisfaction'].value_counts().index, palette='cubehelix');"
   ]
  },
  {
   "cell_type": "markdown",
   "id": "70c9bf7d",
   "metadata": {
    "papermill": {
     "duration": 0.061489,
     "end_time": "2022-05-16T05:43:42.623577",
     "exception": false,
     "start_time": "2022-05-16T05:43:42.562088",
     "status": "completed"
    },
    "tags": []
   },
   "source": [
    "#### Job Satisfaction:\n",
    "#### 1 - Low, 2 - Medium, 3 - High, 4 - Very High"
   ]
  },
  {
   "cell_type": "markdown",
   "id": "cfc74b8c",
   "metadata": {
    "papermill": {
     "duration": 0.061333,
     "end_time": "2022-05-16T05:43:42.746782",
     "exception": false,
     "start_time": "2022-05-16T05:43:42.685449",
     "status": "completed"
    },
    "tags": []
   },
   "source": [
    "# **(5) Find out the distribution of employees by the education field**"
   ]
  },
  {
   "cell_type": "code",
   "execution_count": 18,
   "id": "3cdbc93b",
   "metadata": {
    "execution": {
     "iopub.execute_input": "2022-05-16T05:43:42.872832Z",
     "iopub.status.busy": "2022-05-16T05:43:42.872530Z",
     "iopub.status.idle": "2022-05-16T05:43:43.107934Z",
     "shell.execute_reply": "2022-05-16T05:43:43.106903Z"
    },
    "papermill": {
     "duration": 0.300866,
     "end_time": "2022-05-16T05:43:43.110243",
     "exception": false,
     "start_time": "2022-05-16T05:43:42.809377",
     "status": "completed"
    },
    "tags": []
   },
   "outputs": [
    {
     "data": {
      "image/png": "[encoded data removed]",
      "text/plain": [
       "<Figure size 880x480 with 1 Axes>"
      ]
     },
     "metadata": {
      "needs_background": "light"
     },
     "output_type": "display_data"
    }
   ],
   "source": [
    "# print(df[(df['Attrition'] == 'Yes')].groupby('EducationField')['EducationField'].count().sort_values(ascending=False))\n",
    "\n",
    "plt.figure(figsize=(11,6), dpi=80)\n",
    "sns.histplot(data=df, x='EducationField').set_title('Attrition by Education Field');"
   ]
  },
  {
   "cell_type": "code",
   "execution_count": 19,
   "id": "fe9f14de",
   "metadata": {
    "execution": {
     "iopub.execute_input": "2022-05-16T05:43:43.239909Z",
     "iopub.status.busy": "2022-05-16T05:43:43.239603Z",
     "iopub.status.idle": "2022-05-16T05:43:43.508924Z",
     "shell.execute_reply": "2022-05-16T05:43:43.508231Z"
    },
    "papermill": {
     "duration": 0.336634,
     "end_time": "2022-05-16T05:43:43.510899",
     "exception": false,
     "start_time": "2022-05-16T05:43:43.174265",
     "status": "completed"
    },
    "tags": []
   },
   "outputs": [
    {
     "data": {
      "image/png": "[encoded data removed]",
      "text/plain": [
       "<Figure size 880x480 with 1 Axes>"
      ]
     },
     "metadata": {
      "needs_background": "light"
     },
     "output_type": "display_data"
    }
   ],
   "source": [
    "plt.figure(figsize=(11,6), dpi=80)\n",
    "sns.countplot(data=df, x='EducationField', hue='Attrition', order = df['EducationField'].value_counts().index, palette='seismic_r').set_title('Attrition by Education Field');"
   ]
  },
  {
   "cell_type": "markdown",
   "id": "4bb113c4",
   "metadata": {
    "papermill": {
     "duration": 0.064678,
     "end_time": "2022-05-16T05:43:43.640861",
     "exception": false,
     "start_time": "2022-05-16T05:43:43.576183",
     "status": "completed"
    },
    "tags": []
   },
   "source": [
    "# **(6) Explore data for Marital Status**"
   ]
  },
  {
   "cell_type": "code",
   "execution_count": 20,
   "id": "f1454918",
   "metadata": {
    "execution": {
     "iopub.execute_input": "2022-05-16T05:43:43.772745Z",
     "iopub.status.busy": "2022-05-16T05:43:43.772281Z",
     "iopub.status.idle": "2022-05-16T05:43:43.997958Z",
     "shell.execute_reply": "2022-05-16T05:43:43.997054Z"
    },
    "papermill": {
     "duration": 0.294072,
     "end_time": "2022-05-16T05:43:44.000153",
     "exception": false,
     "start_time": "2022-05-16T05:43:43.706081",
     "status": "completed"
    },
    "tags": []
   },
   "outputs": [
    {
     "data": {
      "image/png": "[encoded data removed]",
      "text/plain": [
       "<Figure size 640x400 with 1 Axes>"
      ]
     },
     "metadata": {
      "needs_background": "light"
     },
     "output_type": "display_data"
    }
   ],
   "source": [
    "# print(df[(df['Attrition'] == 'Yes')].groupby('MaritalStatus')['Attrition'].count().sort_values(ascending=False))\n",
    "\n",
    "plt.figure(figsize=(8,5),dpi=80)\n",
    "sns.countplot(data=df, x='MaritalStatus', hue='Attrition', order=df['MaritalStatus'].value_counts().index, palette='seismic_r').set_title('Attrition by Marital Status');"
   ]
  },
  {
   "cell_type": "code",
   "execution_count": 21,
   "id": "3a2fe60a",
   "metadata": {
    "execution": {
     "iopub.execute_input": "2022-05-16T05:43:44.136384Z",
     "iopub.status.busy": "2022-05-16T05:43:44.136096Z",
     "iopub.status.idle": "2022-05-16T05:43:44.143741Z",
     "shell.execute_reply": "2022-05-16T05:43:44.142680Z"
    },
    "papermill": {
     "duration": 0.078524,
     "end_time": "2022-05-16T05:43:44.146115",
     "exception": false,
     "start_time": "2022-05-16T05:43:44.067591",
     "status": "completed"
    },
    "tags": []
   },
   "outputs": [
    {
     "data": {
      "text/plain": [
       "Age                         int64\n",
       "Gender                     object\n",
       "Attrition                  object\n",
       "Department                 object\n",
       "DistanceFromHome            int64\n",
       "Education                   int64\n",
       "EducationField             object\n",
       "EnvironmentSatisfaction     int64\n",
       "JobSatisfaction             int64\n",
       "MaritalStatus              object\n",
       "MonthlyIncome               int64\n",
       "NumCompaniesWorked          int64\n",
       "WorkLifeBalance             int64\n",
       "YearsAtCompany              int64\n",
       "AgeRange                   object\n",
       "dtype: object"
      ]
     },
     "execution_count": 21,
     "metadata": {},
     "output_type": "execute_result"
    }
   ],
   "source": [
    "df.dtypes"
   ]
  },
  {
   "cell_type": "code",
   "execution_count": 22,
   "id": "574c52a3",
   "metadata": {
    "execution": {
     "iopub.execute_input": "2022-05-16T05:43:44.281468Z",
     "iopub.status.busy": "2022-05-16T05:43:44.280681Z",
     "iopub.status.idle": "2022-05-16T05:43:44.287376Z",
     "shell.execute_reply": "2022-05-16T05:43:44.286585Z"
    },
    "papermill": {
     "duration": 0.076555,
     "end_time": "2022-05-16T05:43:44.289388",
     "exception": false,
     "start_time": "2022-05-16T05:43:44.212833",
     "status": "completed"
    },
    "tags": []
   },
   "outputs": [],
   "source": [
    "df['Attrition'].replace('Yes', 1, inplace=True)\n",
    "df['Attrition'].replace('No', 0, inplace=True)"
   ]
  },
  {
   "cell_type": "code",
   "execution_count": 23,
   "id": "65ee7e9a",
   "metadata": {
    "execution": {
     "iopub.execute_input": "2022-05-16T05:43:44.427554Z",
     "iopub.status.busy": "2022-05-16T05:43:44.427051Z",
     "iopub.status.idle": "2022-05-16T05:43:44.433459Z",
     "shell.execute_reply": "2022-05-16T05:43:44.432744Z"
    },
    "papermill": {
     "duration": 0.077813,
     "end_time": "2022-05-16T05:43:44.435684",
     "exception": false,
     "start_time": "2022-05-16T05:43:44.357871",
     "status": "completed"
    },
    "tags": []
   },
   "outputs": [],
   "source": [
    "df['Gender'].replace('Male', 1, inplace=True)\n",
    "df['Gender'].replace('Female', 0, inplace=True)"
   ]
  },
  {
   "cell_type": "code",
   "execution_count": 24,
   "id": "cbdc6c0f",
   "metadata": {
    "execution": {
     "iopub.execute_input": "2022-05-16T05:43:44.570441Z",
     "iopub.status.busy": "2022-05-16T05:43:44.569958Z",
     "iopub.status.idle": "2022-05-16T05:43:44.577114Z",
     "shell.execute_reply": "2022-05-16T05:43:44.576297Z"
    },
    "papermill": {
     "duration": 0.076782,
     "end_time": "2022-05-16T05:43:44.579202",
     "exception": false,
     "start_time": "2022-05-16T05:43:44.502420",
     "status": "completed"
    },
    "tags": []
   },
   "outputs": [],
   "source": [
    "df['Department'].replace('Human Resources', 1, inplace=True)\n",
    "df['Department'].replace('Research & Development', 2, inplace=True)\n",
    "df['Department'].replace('Sales', 3, inplace=True)"
   ]
  },
  {
   "cell_type": "code",
   "execution_count": 25,
   "id": "22d676e1",
   "metadata": {
    "execution": {
     "iopub.execute_input": "2022-05-16T05:43:44.712380Z",
     "iopub.status.busy": "2022-05-16T05:43:44.711952Z",
     "iopub.status.idle": "2022-05-16T05:43:44.721344Z",
     "shell.execute_reply": "2022-05-16T05:43:44.720604Z"
    },
    "papermill": {
     "duration": 0.078694,
     "end_time": "2022-05-16T05:43:44.723512",
     "exception": false,
     "start_time": "2022-05-16T05:43:44.644818",
     "status": "completed"
    },
    "tags": []
   },
   "outputs": [],
   "source": [
    "df['EducationField'].replace('Human Resources', 1, inplace=True)\n",
    "df['EducationField'].replace('Life Sciences', 2, inplace=True)\n",
    "df['EducationField'].replace('Marketing', 3, inplace=True)\n",
    "df['EducationField'].replace('Medical', 4, inplace=True)\n",
    "df['EducationField'].replace('Other', 5, inplace=True)\n",
    "df['EducationField'].replace('Technical Degree', 6, inplace=True)"
   ]
  },
  {
   "cell_type": "code",
   "execution_count": 26,
   "id": "f962f39e",
   "metadata": {
    "execution": {
     "iopub.execute_input": "2022-05-16T05:43:44.857802Z",
     "iopub.status.busy": "2022-05-16T05:43:44.857276Z",
     "iopub.status.idle": "2022-05-16T05:43:44.863902Z",
     "shell.execute_reply": "2022-05-16T05:43:44.863250Z"
    },
    "papermill": {
     "duration": 0.076808,
     "end_time": "2022-05-16T05:43:44.865827",
     "exception": false,
     "start_time": "2022-05-16T05:43:44.789019",
     "status": "completed"
    },
    "tags": []
   },
   "outputs": [],
   "source": [
    "df['MaritalStatus'].replace('Divorced', 1, inplace=True)\n",
    "df['MaritalStatus'].replace('Married', 2, inplace=True)\n",
    "df['MaritalStatus'].replace('Single', 3, inplace=True)"
   ]
  },
  {
   "cell_type": "code",
   "execution_count": 27,
   "id": "00393c43",
   "metadata": {
    "execution": {
     "iopub.execute_input": "2022-05-16T05:43:44.999056Z",
     "iopub.status.busy": "2022-05-16T05:43:44.998566Z",
     "iopub.status.idle": "2022-05-16T05:43:45.005052Z",
     "shell.execute_reply": "2022-05-16T05:43:45.004453Z"
    },
    "papermill": {
     "duration": 0.075777,
     "end_time": "2022-05-16T05:43:45.006930",
     "exception": false,
     "start_time": "2022-05-16T05:43:44.931153",
     "status": "completed"
    },
    "tags": []
   },
   "outputs": [
    {
     "data": {
      "text/plain": [
       "Age                         int64\n",
       "Gender                      int64\n",
       "Attrition                   int64\n",
       "Department                  int64\n",
       "DistanceFromHome            int64\n",
       "Education                   int64\n",
       "EducationField              int64\n",
       "EnvironmentSatisfaction     int64\n",
       "JobSatisfaction             int64\n",
       "MaritalStatus               int64\n",
       "MonthlyIncome               int64\n",
       "NumCompaniesWorked          int64\n",
       "WorkLifeBalance             int64\n",
       "YearsAtCompany              int64\n",
       "AgeRange                   object\n",
       "dtype: object"
      ]
     },
     "execution_count": 27,
     "metadata": {},
     "output_type": "execute_result"
    }
   ],
   "source": [
    "df.dtypes"
   ]
  },
  {
   "cell_type": "markdown",
   "id": "b7bd2bbb",
   "metadata": {
    "papermill": {
     "duration": 0.066187,
     "end_time": "2022-05-16T05:43:45.138549",
     "exception": false,
     "start_time": "2022-05-16T05:43:45.072362",
     "status": "completed"
    },
    "tags": []
   },
   "source": [
    "# **Build a logistic regression model to predict which employees are likely to attrite**"
   ]
  },
  {
   "cell_type": "code",
   "execution_count": 28,
   "id": "d444052d",
   "metadata": {
    "execution": {
     "iopub.execute_input": "2022-05-16T05:43:45.272084Z",
     "iopub.status.busy": "2022-05-16T05:43:45.271557Z",
     "iopub.status.idle": "2022-05-16T05:43:45.276897Z",
     "shell.execute_reply": "2022-05-16T05:43:45.276064Z"
    },
    "papermill": {
     "duration": 0.074787,
     "end_time": "2022-05-16T05:43:45.279037",
     "exception": false,
     "start_time": "2022-05-16T05:43:45.204250",
     "status": "completed"
    },
    "tags": []
   },
   "outputs": [],
   "source": [
    "x = df.drop(['Attrition', 'AgeRange', 'DistanceFromHome', 'NumCompaniesWorked', 'WorkLifeBalance'], axis=1)"
   ]
  },
  {
   "cell_type": "code",
   "execution_count": 29,
   "id": "fa00704e",
   "metadata": {
    "execution": {
     "iopub.execute_input": "2022-05-16T05:43:45.417513Z",
     "iopub.status.busy": "2022-05-16T05:43:45.417027Z",
     "iopub.status.idle": "2022-05-16T05:43:45.421345Z",
     "shell.execute_reply": "2022-05-16T05:43:45.420698Z"
    },
    "papermill": {
     "duration": 0.078083,
     "end_time": "2022-05-16T05:43:45.423355",
     "exception": false,
     "start_time": "2022-05-16T05:43:45.345272",
     "status": "completed"
    },
    "tags": []
   },
   "outputs": [],
   "source": [
    "y = df[['Attrition']]"
   ]
  },
  {
   "cell_type": "code",
   "execution_count": 30,
   "id": "ebac0383",
   "metadata": {
    "execution": {
     "iopub.execute_input": "2022-05-16T05:43:45.557032Z",
     "iopub.status.busy": "2022-05-16T05:43:45.556762Z",
     "iopub.status.idle": "2022-05-16T05:43:45.624001Z",
     "shell.execute_reply": "2022-05-16T05:43:45.623274Z"
    },
    "papermill": {
     "duration": 0.136887,
     "end_time": "2022-05-16T05:43:45.626427",
     "exception": false,
     "start_time": "2022-05-16T05:43:45.489540",
     "status": "completed"
    },
    "tags": []
   },
   "outputs": [],
   "source": [
    "from sklearn.model_selection import train_test_split\n",
    "x_train, x_test, y_train, y_test = train_test_split(x, y, test_size=0.2)"
   ]
  },
  {
   "cell_type": "code",
   "execution_count": 31,
   "id": "f352d60e",
   "metadata": {
    "execution": {
     "iopub.execute_input": "2022-05-16T05:43:45.763192Z",
     "iopub.status.busy": "2022-05-16T05:43:45.762899Z",
     "iopub.status.idle": "2022-05-16T05:43:45.777177Z",
     "shell.execute_reply": "2022-05-16T05:43:45.776301Z"
    },
    "papermill": {
     "duration": 0.085089,
     "end_time": "2022-05-16T05:43:45.779589",
     "exception": false,
     "start_time": "2022-05-16T05:43:45.694500",
     "status": "completed"
    },
    "tags": []
   },
   "outputs": [],
   "source": [
    "from sklearn.preprocessing import StandardScaler\n",
    "sc = StandardScaler()\n",
    "x_train = sc.fit_transform(x_train)\n",
    "x_test = sc.fit_transform(x_test)"
   ]
  },
  {
   "cell_type": "markdown",
   "id": "2f7121d9",
   "metadata": {
    "papermill": {
     "duration": 0.065899,
     "end_time": "2022-05-16T05:43:45.913824",
     "exception": false,
     "start_time": "2022-05-16T05:43:45.847925",
     "status": "completed"
    },
    "tags": []
   },
   "source": [
    "# **Logistic Regression**"
   ]
  },
  {
   "cell_type": "code",
   "execution_count": 32,
   "id": "8d283877",
   "metadata": {
    "execution": {
     "iopub.execute_input": "2022-05-16T05:43:46.046882Z",
     "iopub.status.busy": "2022-05-16T05:43:46.046584Z",
     "iopub.status.idle": "2022-05-16T05:43:46.126778Z",
     "shell.execute_reply": "2022-05-16T05:43:46.125697Z"
    },
    "papermill": {
     "duration": 0.156392,
     "end_time": "2022-05-16T05:43:46.135867",
     "exception": false,
     "start_time": "2022-05-16T05:43:45.979475",
     "status": "completed"
    },
    "tags": []
   },
   "outputs": [
    {
     "name": "stdout",
     "output_type": "stream",
     "text": [
      "Accuracy = 84.8639455782313 %\n"
     ]
    },
    {
     "name": "stderr",
     "output_type": "stream",
     "text": [
      "C:\\Users\\Mritunjay\\AppData\\Local\\Programs\\Python\\Python310\\lib\\site-packages\\sklearn\\utils\\validation.py:993: DataConversionWarning: A column-vector y was passed when a 1d array was expected. Please change the shape of y to (n_samples, ), for example using ravel().\n",
      "  y = column_or_1d(y, warn=True)\n"
     ]
    }
   ],
   "source": [
    "from sklearn.linear_model import LogisticRegression\n",
    "lr = LogisticRegression()\n",
    "lr = lr.fit(x_train, y_train)\n",
    "\n",
    "# check the accuracy on the training set\n",
    "print('Accuracy =', lr.score(x_train, y_train)*100,'%');"
   ]
  },
  {
   "cell_type": "code",
   "execution_count": 33,
   "id": "9d84c114",
   "metadata": {
    "execution": {
     "iopub.execute_input": "2022-05-16T05:43:46.325258Z",
     "iopub.status.busy": "2022-05-16T05:43:46.324985Z",
     "iopub.status.idle": "2022-05-16T05:43:46.329383Z",
     "shell.execute_reply": "2022-05-16T05:43:46.328471Z"
    },
    "papermill": {
     "duration": 0.07486,
     "end_time": "2022-05-16T05:43:46.331264",
     "exception": false,
     "start_time": "2022-05-16T05:43:46.256404",
     "status": "completed"
    },
    "tags": []
   },
   "outputs": [],
   "source": [
    "lr_y_pred = lr.predict(x_test)"
   ]
  },
  {
   "cell_type": "code",
   "execution_count": 34,
   "id": "41268e33",
   "metadata": {
    "execution": {
     "iopub.execute_input": "2022-05-16T05:43:46.469509Z",
     "iopub.status.busy": "2022-05-16T05:43:46.469027Z",
     "iopub.status.idle": "2022-05-16T05:43:46.476536Z",
     "shell.execute_reply": "2022-05-16T05:43:46.475907Z"
    },
    "papermill": {
     "duration": 0.078742,
     "end_time": "2022-05-16T05:43:46.478549",
     "exception": false,
     "start_time": "2022-05-16T05:43:46.399807",
     "status": "completed"
    },
    "tags": []
   },
   "outputs": [
    {
     "data": {
      "text/html": [
       "<div>\n",
       "<style scoped>\n",
       "    .dataframe tbody tr th:only-of-type {\n",
       "        vertical-align: middle;\n",
       "    }\n",
       "\n",
       "    .dataframe tbody tr th {\n",
       "        vertical-align: top;\n",
       "    }\n",
       "\n",
       "    .dataframe thead th {\n",
       "        text-align: right;\n",
       "    }\n",
       "</style>\n",
       "<table border=\"1\" class=\"dataframe\">\n",
       "  <thead>\n",
       "    <tr style=\"text-align: right;\">\n",
       "      <th></th>\n",
       "      <th>0</th>\n",
       "    </tr>\n",
       "  </thead>\n",
       "  <tbody>\n",
       "    <tr>\n",
       "      <th>0</th>\n",
       "      <td>0</td>\n",
       "    </tr>\n",
       "    <tr>\n",
       "      <th>1</th>\n",
       "      <td>0</td>\n",
       "    </tr>\n",
       "    <tr>\n",
       "      <th>2</th>\n",
       "      <td>0</td>\n",
       "    </tr>\n",
       "    <tr>\n",
       "      <th>3</th>\n",
       "      <td>0</td>\n",
       "    </tr>\n",
       "    <tr>\n",
       "      <th>4</th>\n",
       "      <td>0</td>\n",
       "    </tr>\n",
       "  </tbody>\n",
       "</table>\n",
       "</div>"
      ],
      "text/plain": [
       "   0\n",
       "0  0\n",
       "1  0\n",
       "2  0\n",
       "3  0\n",
       "4  0"
      ]
     },
     "execution_count": 34,
     "metadata": {},
     "output_type": "execute_result"
    }
   ],
   "source": [
    "pd.DataFrame(lr_y_pred).head()"
   ]
  },
  {
   "cell_type": "code",
   "execution_count": 35,
   "id": "04586909",
   "metadata": {
    "execution": {
     "iopub.execute_input": "2022-05-16T05:43:46.616102Z",
     "iopub.status.busy": "2022-05-16T05:43:46.615554Z",
     "iopub.status.idle": "2022-05-16T05:43:46.627878Z",
     "shell.execute_reply": "2022-05-16T05:43:46.627184Z"
    },
    "papermill": {
     "duration": 0.087108,
     "end_time": "2022-05-16T05:43:46.633719",
     "exception": false,
     "start_time": "2022-05-16T05:43:46.546611",
     "status": "completed"
    },
    "scrolled": true,
    "tags": []
   },
   "outputs": [
    {
     "name": "stdout",
     "output_type": "stream",
     "text": [
      "[[0.95555771 0.04444229]\n",
      " [0.60573556 0.39426444]\n",
      " [0.98686919 0.01313081]\n",
      " [0.79929004 0.20070996]\n",
      " [0.85548814 0.14451186]\n",
      " [0.98181928 0.01818072]\n",
      " [0.6256017  0.3743983 ]\n",
      " [0.7739267  0.2260733 ]\n",
      " [0.89209955 0.10790045]\n",
      " [0.84048001 0.15951999]\n",
      " [0.57352104 0.42647896]\n",
      " [0.75150006 0.24849994]\n",
      " [0.93585652 0.06414348]\n",
      " [0.92016085 0.07983915]\n",
      " [0.91826178 0.08173822]\n",
      " [0.49862363 0.50137637]\n",
      " [0.68781728 0.31218272]\n",
      " [0.72709013 0.27290987]\n",
      " [0.63681562 0.36318438]\n",
      " [0.90215847 0.09784153]\n",
      " [0.89080719 0.10919281]\n",
      " [0.80010573 0.19989427]\n",
      " [0.80816005 0.19183995]\n",
      " [0.75777685 0.24222315]\n",
      " [0.96284419 0.03715581]\n",
      " [0.89220676 0.10779324]\n",
      " [0.87140532 0.12859468]\n",
      " [0.73584027 0.26415973]\n",
      " [0.96345846 0.03654154]\n",
      " [0.65659603 0.34340397]\n",
      " [0.75367563 0.24632437]\n",
      " [0.70469466 0.29530534]\n",
      " [0.84929289 0.15070711]\n",
      " [0.93983457 0.06016543]\n",
      " [0.82356934 0.17643066]\n",
      " [0.86835484 0.13164516]\n",
      " [0.96296034 0.03703966]\n",
      " [0.79194613 0.20805387]\n",
      " [0.70524713 0.29475287]\n",
      " [0.96240694 0.03759306]\n",
      " [0.89439253 0.10560747]\n",
      " [0.95156555 0.04843445]\n",
      " [0.81678394 0.18321606]\n",
      " [0.83886122 0.16113878]\n",
      " [0.9893866  0.0106134 ]\n",
      " [0.78771998 0.21228002]\n",
      " [0.61504029 0.38495971]\n",
      " [0.85905662 0.14094338]\n",
      " [0.92311801 0.07688199]\n",
      " [0.77460954 0.22539046]\n",
      " [0.81882212 0.18117788]\n",
      " [0.93776948 0.06223052]\n",
      " [0.66418943 0.33581057]\n",
      " [0.83448119 0.16551881]\n",
      " [0.55620397 0.44379603]\n",
      " [0.94020657 0.05979343]\n",
      " [0.92523675 0.07476325]\n",
      " [0.84937535 0.15062465]\n",
      " [0.61292408 0.38707592]\n",
      " [0.95898175 0.04101825]\n",
      " [0.89279261 0.10720739]\n",
      " [0.81071175 0.18928825]\n",
      " [0.58453209 0.41546791]\n",
      " [0.83334186 0.16665814]\n",
      " [0.57324061 0.42675939]\n",
      " [0.90236811 0.09763189]\n",
      " [0.94979927 0.05020073]\n",
      " [0.93842417 0.06157583]\n",
      " [0.77137086 0.22862914]\n",
      " [0.94483109 0.05516891]\n",
      " [0.9460414  0.0539586 ]\n",
      " [0.91976138 0.08023862]\n",
      " [0.92655489 0.07344511]\n",
      " [0.99525584 0.00474416]\n",
      " [0.63883546 0.36116454]\n",
      " [0.8773408  0.1226592 ]\n",
      " [0.92225328 0.07774672]\n",
      " [0.65426282 0.34573718]\n",
      " [0.62291371 0.37708629]\n",
      " [0.70998598 0.29001402]\n",
      " [0.39787888 0.60212112]\n",
      " [0.90203728 0.09796272]\n",
      " [0.91639541 0.08360459]\n",
      " [0.97199154 0.02800846]\n",
      " [0.94411923 0.05588077]\n",
      " [0.90557814 0.09442186]\n",
      " [0.6754601  0.3245399 ]\n",
      " [0.93326805 0.06673195]\n",
      " [0.93194388 0.06805612]\n",
      " [0.84752963 0.15247037]\n",
      " [0.88628643 0.11371357]\n",
      " [0.55191378 0.44808622]\n",
      " [0.92367012 0.07632988]\n",
      " [0.89305837 0.10694163]\n",
      " [0.86912796 0.13087204]\n",
      " [0.93675336 0.06324664]\n",
      " [0.61053848 0.38946152]\n",
      " [0.73338487 0.26661513]\n",
      " [0.95355841 0.04644159]\n",
      " [0.94713907 0.05286093]\n",
      " [0.83884776 0.16115224]\n",
      " [0.94442545 0.05557455]\n",
      " [0.94900021 0.05099979]\n",
      " [0.96336268 0.03663732]\n",
      " [0.87923759 0.12076241]\n",
      " [0.61419333 0.38580667]\n",
      " [0.93107956 0.06892044]\n",
      " [0.93530781 0.06469219]\n",
      " [0.77660709 0.22339291]\n",
      " [0.79841643 0.20158357]\n",
      " [0.75730717 0.24269283]\n",
      " [0.76399383 0.23600617]\n",
      " [0.87483325 0.12516675]\n",
      " [0.92582174 0.07417826]\n",
      " [0.97141178 0.02858822]\n",
      " [0.88221497 0.11778503]\n",
      " [0.75447602 0.24552398]\n",
      " [0.81990968 0.18009032]\n",
      " [0.97017222 0.02982778]\n",
      " [0.69751441 0.30248559]\n",
      " [0.98098307 0.01901693]\n",
      " [0.91251416 0.08748584]\n",
      " [0.76865135 0.23134865]\n",
      " [0.66585086 0.33414914]\n",
      " [0.83384165 0.16615835]\n",
      " [0.83578091 0.16421909]\n",
      " [0.91943197 0.08056803]\n",
      " [0.84690892 0.15309108]\n",
      " [0.65820814 0.34179186]\n",
      " [0.53271919 0.46728081]\n",
      " [0.94632639 0.05367361]\n",
      " [0.93286779 0.06713221]\n",
      " [0.77586337 0.22413663]\n",
      " [0.91771786 0.08228214]\n",
      " [0.98593659 0.01406341]\n",
      " [0.94068352 0.05931648]\n",
      " [0.77198676 0.22801324]\n",
      " [0.7711515  0.2288485 ]\n",
      " [0.89807179 0.10192821]\n",
      " [0.75951162 0.24048838]\n",
      " [0.96443995 0.03556005]\n",
      " [0.91509168 0.08490832]\n",
      " [0.67709173 0.32290827]\n",
      " [0.92715215 0.07284785]\n",
      " [0.83495271 0.16504729]\n",
      " [0.94240547 0.05759453]\n",
      " [0.73892518 0.26107482]\n",
      " [0.66567824 0.33432176]\n",
      " [0.8117044  0.1882956 ]\n",
      " [0.82413443 0.17586557]\n",
      " [0.80067467 0.19932533]\n",
      " [0.86769478 0.13230522]\n",
      " [0.894039   0.105961  ]\n",
      " [0.86230448 0.13769552]\n",
      " [0.92938993 0.07061007]\n",
      " [0.95638179 0.04361821]\n",
      " [0.87199038 0.12800962]\n",
      " [0.96914099 0.03085901]\n",
      " [0.67258609 0.32741391]\n",
      " [0.91443243 0.08556757]\n",
      " [0.64900969 0.35099031]\n",
      " [0.71044152 0.28955848]\n",
      " [0.97234243 0.02765757]\n",
      " [0.92767563 0.07232437]\n",
      " [0.95612128 0.04387872]\n",
      " [0.87200311 0.12799689]\n",
      " [0.97433789 0.02566211]\n",
      " [0.93687557 0.06312443]\n",
      " [0.60047889 0.39952111]\n",
      " [0.55015963 0.44984037]\n",
      " [0.9250921  0.0749079 ]\n",
      " [0.81931243 0.18068757]\n",
      " [0.81242036 0.18757964]\n",
      " [0.81907248 0.18092752]\n",
      " [0.87126568 0.12873432]\n",
      " [0.96162906 0.03837094]\n",
      " [0.8413157  0.1586843 ]\n",
      " [0.96864072 0.03135928]\n",
      " [0.84734885 0.15265115]\n",
      " [0.93516142 0.06483858]\n",
      " [0.75794293 0.24205707]\n",
      " [0.88117146 0.11882854]\n",
      " [0.46295625 0.53704375]\n",
      " [0.59656049 0.40343951]\n",
      " [0.87023165 0.12976835]\n",
      " [0.77152067 0.22847933]\n",
      " [0.86310881 0.13689119]\n",
      " [0.92515381 0.07484619]\n",
      " [0.87159804 0.12840196]\n",
      " [0.69700295 0.30299705]\n",
      " [0.8907931  0.1092069 ]\n",
      " [0.9376618  0.0623382 ]\n",
      " [0.86112624 0.13887376]\n",
      " [0.95448627 0.04551373]\n",
      " [0.96871155 0.03128845]\n",
      " [0.91927022 0.08072978]\n",
      " [0.88390271 0.11609729]\n",
      " [0.9285177  0.0714823 ]\n",
      " [0.67277877 0.32722123]\n",
      " [0.8544351  0.1455649 ]\n",
      " [0.80979135 0.19020865]\n",
      " [0.97899663 0.02100337]\n",
      " [0.97475732 0.02524268]\n",
      " [0.63585368 0.36414632]\n",
      " [0.62688161 0.37311839]\n",
      " [0.83284873 0.16715127]\n",
      " [0.76934967 0.23065033]\n",
      " [0.94466367 0.05533633]\n",
      " [0.79799947 0.20200053]\n",
      " [0.95865039 0.04134961]\n",
      " [0.67192655 0.32807345]\n",
      " [0.84889366 0.15110634]\n",
      " [0.93532871 0.06467129]\n",
      " [0.86953452 0.13046548]\n",
      " [0.85818093 0.14181907]\n",
      " [0.89557499 0.10442501]\n",
      " [0.96020937 0.03979063]\n",
      " [0.94911273 0.05088727]\n",
      " [0.9286429  0.0713571 ]\n",
      " [0.75273673 0.24726327]\n",
      " [0.60091082 0.39908918]\n",
      " [0.54090088 0.45909912]\n",
      " [0.94117425 0.05882575]\n",
      " [0.85209544 0.14790456]\n",
      " [0.96233071 0.03766929]\n",
      " [0.67782233 0.32217767]\n",
      " [0.92635529 0.07364471]\n",
      " [0.90207458 0.09792542]\n",
      " [0.77414036 0.22585964]\n",
      " [0.86795839 0.13204161]\n",
      " [0.71192412 0.28807588]\n",
      " [0.88177801 0.11822199]\n",
      " [0.88307111 0.11692889]\n",
      " [0.84238365 0.15761635]\n",
      " [0.86487882 0.13512118]\n",
      " [0.91880096 0.08119904]\n",
      " [0.80499908 0.19500092]\n",
      " [0.87208023 0.12791977]\n",
      " [0.79422595 0.20577405]\n",
      " [0.84475322 0.15524678]\n",
      " [0.81705282 0.18294718]\n",
      " [0.89596407 0.10403593]\n",
      " [0.7680035  0.2319965 ]\n",
      " [0.94381267 0.05618733]\n",
      " [0.83748537 0.16251463]\n",
      " [0.83795172 0.16204828]\n",
      " [0.94541057 0.05458943]\n",
      " [0.77630563 0.22369437]\n",
      " [0.98632517 0.01367483]\n",
      " [0.87532927 0.12467073]\n",
      " [0.98121242 0.01878758]\n",
      " [0.70521396 0.29478604]\n",
      " [0.70353571 0.29646429]\n",
      " [0.83402053 0.16597947]\n",
      " [0.83136825 0.16863175]\n",
      " [0.91537875 0.08462125]\n",
      " [0.93932127 0.06067873]\n",
      " [0.86045363 0.13954637]\n",
      " [0.68118781 0.31881219]\n",
      " [0.71019838 0.28980162]\n",
      " [0.75032055 0.24967945]\n",
      " [0.9603618  0.0396382 ]\n",
      " [0.97855049 0.02144951]\n",
      " [0.9838977  0.0161023 ]\n",
      " [0.87519085 0.12480915]\n",
      " [0.82325106 0.17674894]\n",
      " [0.69100158 0.30899842]\n",
      " [0.6226329  0.3773671 ]\n",
      " [0.84848732 0.15151268]\n",
      " [0.8589782  0.1410218 ]\n",
      " [0.97221211 0.02778789]\n",
      " [0.98336973 0.01663027]\n",
      " [0.97055472 0.02944528]\n",
      " [0.65490719 0.34509281]\n",
      " [0.86904703 0.13095297]\n",
      " [0.92455187 0.07544813]\n",
      " [0.96577437 0.03422563]\n",
      " [0.6420048  0.3579952 ]\n",
      " [0.96366703 0.03633297]\n",
      " [0.89017532 0.10982468]\n",
      " [0.52264344 0.47735656]\n",
      " [0.88503032 0.11496968]\n",
      " [0.92087325 0.07912675]\n",
      " [0.74273526 0.25726474]\n",
      " [0.9096005  0.0903995 ]\n",
      " [0.94269076 0.05730924]\n",
      " [0.72960281 0.27039719]\n",
      " [0.98249273 0.01750727]\n",
      " [0.91492094 0.08507906]\n",
      " [0.98783613 0.01216387]\n",
      " [0.89070141 0.10929859]\n",
      " [0.85014529 0.14985471]\n",
      " [0.93998149 0.06001851]\n",
      " [0.92044085 0.07955915]]\n"
     ]
    }
   ],
   "source": [
    "prob = lr.predict_proba(x_test)\n",
    "print(prob)"
   ]
  },
  {
   "cell_type": "code",
   "execution_count": 36,
   "id": "2bda3f4c",
   "metadata": {
    "execution": {
     "iopub.execute_input": "2022-05-16T05:43:46.772110Z",
     "iopub.status.busy": "2022-05-16T05:43:46.771837Z",
     "iopub.status.idle": "2022-05-16T05:43:46.788141Z",
     "shell.execute_reply": "2022-05-16T05:43:46.787044Z"
    },
    "papermill": {
     "duration": 0.087278,
     "end_time": "2022-05-16T05:43:46.790163",
     "exception": false,
     "start_time": "2022-05-16T05:43:46.702885",
     "status": "completed"
    },
    "tags": []
   },
   "outputs": [
    {
     "name": "stdout",
     "output_type": "stream",
     "text": [
      "Test Accuracy Score: 83.6734693877551 %\n",
      "\n",
      "----------------------Classification Report----------------------\n",
      "               precision    recall  f1-score   support\n",
      "\n",
      "           0       0.84      1.00      0.91       245\n",
      "           1       0.67      0.04      0.08        49\n",
      "\n",
      "    accuracy                           0.84       294\n",
      "   macro avg       0.75      0.52      0.49       294\n",
      "weighted avg       0.81      0.84      0.77       294\n",
      "\n",
      "----------------------Confusion Matrix----------------------\n",
      " [[244   1]\n",
      " [ 47   2]]\n"
     ]
    }
   ],
   "source": [
    "from sklearn.metrics import accuracy_score, confusion_matrix, classification_report\n",
    "\n",
    "print('Test Accuracy Score:', accuracy_score(y_test, lr_y_pred)*100, '%\\n')\n",
    "\n",
    "print('----------------------Classification Report----------------------\\n', classification_report(y_test, lr_y_pred))\n",
    "print('----------------------Confusion Matrix----------------------\\n', confusion_matrix(y_test, lr_y_pred))"
   ]
  },
  {
   "cell_type": "code",
   "execution_count": 37,
   "id": "f6b2b475",
   "metadata": {
    "execution": {
     "iopub.execute_input": "2022-05-16T05:43:46.930449Z",
     "iopub.status.busy": "2022-05-16T05:43:46.929640Z",
     "iopub.status.idle": "2022-05-16T05:43:46.945269Z",
     "shell.execute_reply": "2022-05-16T05:43:46.944608Z"
    },
    "papermill": {
     "duration": 0.087186,
     "end_time": "2022-05-16T05:43:46.947151",
     "exception": false,
     "start_time": "2022-05-16T05:43:46.859965",
     "status": "completed"
    },
    "tags": []
   },
   "outputs": [
    {
     "data": {
      "text/html": [
       "<div>\n",
       "<style scoped>\n",
       "    .dataframe tbody tr th:only-of-type {\n",
       "        vertical-align: middle;\n",
       "    }\n",
       "\n",
       "    .dataframe tbody tr th {\n",
       "        vertical-align: top;\n",
       "    }\n",
       "\n",
       "    .dataframe thead th {\n",
       "        text-align: right;\n",
       "    }\n",
       "</style>\n",
       "<table border=\"1\" class=\"dataframe\">\n",
       "  <thead>\n",
       "    <tr style=\"text-align: right;\">\n",
       "      <th></th>\n",
       "      <th>0</th>\n",
       "      <th>1</th>\n",
       "      <th>2</th>\n",
       "      <th>3</th>\n",
       "      <th>4</th>\n",
       "      <th>5</th>\n",
       "      <th>6</th>\n",
       "      <th>7</th>\n",
       "      <th>8</th>\n",
       "      <th>9</th>\n",
       "    </tr>\n",
       "  </thead>\n",
       "  <tbody>\n",
       "    <tr>\n",
       "      <th>0</th>\n",
       "      <td>1.189817</td>\n",
       "      <td>0.815918</td>\n",
       "      <td>-0.506145</td>\n",
       "      <td>1.080324</td>\n",
       "      <td>-0.945408</td>\n",
       "      <td>0.255579</td>\n",
       "      <td>0.230651</td>\n",
       "      <td>1.230948</td>\n",
       "      <td>0.948748</td>\n",
       "      <td>1.245190</td>\n",
       "    </tr>\n",
       "    <tr>\n",
       "      <th>1</th>\n",
       "      <td>-0.112696</td>\n",
       "      <td>-1.225613</td>\n",
       "      <td>-0.506145</td>\n",
       "      <td>0.100030</td>\n",
       "      <td>-0.945408</td>\n",
       "      <td>1.171925</td>\n",
       "      <td>0.230651</td>\n",
       "      <td>-0.134708</td>\n",
       "      <td>-0.837700</td>\n",
       "      <td>-0.826468</td>\n",
       "    </tr>\n",
       "    <tr>\n",
       "      <th>2</th>\n",
       "      <td>-0.329782</td>\n",
       "      <td>-1.225613</td>\n",
       "      <td>-0.506145</td>\n",
       "      <td>1.080324</td>\n",
       "      <td>2.039289</td>\n",
       "      <td>0.255579</td>\n",
       "      <td>1.137825</td>\n",
       "      <td>1.230948</td>\n",
       "      <td>0.037778</td>\n",
       "      <td>1.085832</td>\n",
       "    </tr>\n",
       "    <tr>\n",
       "      <th>3</th>\n",
       "      <td>1.841073</td>\n",
       "      <td>-1.225613</td>\n",
       "      <td>-0.506145</td>\n",
       "      <td>1.080324</td>\n",
       "      <td>-0.945408</td>\n",
       "      <td>1.171925</td>\n",
       "      <td>0.230651</td>\n",
       "      <td>1.230948</td>\n",
       "      <td>-0.346300</td>\n",
       "      <td>-0.507751</td>\n",
       "    </tr>\n",
       "    <tr>\n",
       "      <th>4</th>\n",
       "      <td>-1.198124</td>\n",
       "      <td>0.815918</td>\n",
       "      <td>1.371541</td>\n",
       "      <td>0.100030</td>\n",
       "      <td>0.546941</td>\n",
       "      <td>0.255579</td>\n",
       "      <td>-1.583698</td>\n",
       "      <td>1.230948</td>\n",
       "      <td>-0.467777</td>\n",
       "      <td>-0.029676</td>\n",
       "    </tr>\n",
       "  </tbody>\n",
       "</table>\n",
       "</div>"
      ],
      "text/plain": [
       "          0         1         2         3         4         5         6  \\\n",
       "0  1.189817  0.815918 -0.506145  1.080324 -0.945408  0.255579  0.230651   \n",
       "1 -0.112696 -1.225613 -0.506145  0.100030 -0.945408  1.171925  0.230651   \n",
       "2 -0.329782 -1.225613 -0.506145  1.080324  2.039289  0.255579  1.137825   \n",
       "3  1.841073 -1.225613 -0.506145  1.080324 -0.945408  1.171925  0.230651   \n",
       "4 -1.198124  0.815918  1.371541  0.100030  0.546941  0.255579 -1.583698   \n",
       "\n",
       "          7         8         9  \n",
       "0  1.230948  0.948748  1.245190  \n",
       "1 -0.134708 -0.837700 -0.826468  \n",
       "2  1.230948  0.037778  1.085832  \n",
       "3  1.230948 -0.346300 -0.507751  \n",
       "4  1.230948 -0.467777 -0.029676  "
      ]
     },
     "execution_count": 37,
     "metadata": {},
     "output_type": "execute_result"
    }
   ],
   "source": [
    "# add random values to check the proabily of attrition of the employee\n",
    "\n",
    "pd.DataFrame(x_train).head()"
   ]
  },
  {
   "cell_type": "code",
   "execution_count": 38,
   "id": "47c8730d",
   "metadata": {
    "execution": {
     "iopub.execute_input": "2022-05-16T05:43:47.089353Z",
     "iopub.status.busy": "2022-05-16T05:43:47.088760Z",
     "iopub.status.idle": "2022-05-16T05:43:47.095408Z",
     "shell.execute_reply": "2022-05-16T05:43:47.094613Z"
    },
    "papermill": {
     "duration": 0.080637,
     "end_time": "2022-05-16T05:43:47.098117",
     "exception": false,
     "start_time": "2022-05-16T05:43:47.017480",
     "status": "completed"
    },
    "tags": []
   },
   "outputs": [
    {
     "name": "stdout",
     "output_type": "stream",
     "text": [
      "[[0.81743897 0.18256103]]\n"
     ]
    }
   ],
   "source": [
    "input = [[-0.657246, 0.813029, -0.503547, -0.878027, -0.909680, 1.161409, -1.560113, -0.144032, -0.908062, -0.494890]]\n",
    "print(lr.predict_proba(input))"
   ]
  }
 ],
 "metadata": {
  "kernelspec": {
   "display_name": "Python 3 (ipykernel)",
   "language": "python",
   "name": "python3"
  },
  "language_info": {
   "codemirror_mode": {
    "name": "ipython",
    "version": 3
   },
   "file_extension": ".py",
   "mimetype": "text/x-python",
   "name": "python",
   "nbconvert_exporter": "python",
   "pygments_lexer": "ipython3",
   "version": "3.9.13"
  },
  "papermill": {
   "default_parameters": {},
   "duration": 21.625556,
   "end_time": "2022-05-16T05:43:47.890101",
   "environment_variables": {},
   "exception": null,
   "input_path": "__notebook__.ipynb",
   "output_path": "__notebook__.ipynb",
   "parameters": {},
   "start_time": "2022-05-16T05:43:26.264545",
   "version": "2.3.4"
  },
  "toc": {
   "base_numbering": 1,
   "nav_menu": {},
   "number_sections": true,
   "sideBar": true,
   "skip_h1_title": false,
   "title_cell": "Table of Contents",
   "title_sidebar": "Contents",
   "toc_cell": false,
   "toc_position": {},
   "toc_section_display": true,
   "toc_window_display": false
  },
  "varInspector": {
   "cols": {
    "lenName": 16,
    "lenType": 16,
    "lenVar": 40
   },
   "kernels_config": {
    "python": {
     "delete_cmd_postfix": "",
     "delete_cmd_prefix": "del ",
     "library": "var_list.py",
     "varRefreshCmd": "print(var_dic_list())"
    },
    "r": {
     "delete_cmd_postfix": ") ",
     "delete_cmd_prefix": "rm(",
     "library": "var_list.r",
     "varRefreshCmd": "cat(var_dic_list()) "
    }
   },
   "types_to_exclude": [
    "module",
    "function",
    "builtin_function_or_method",
    "instance",
    "_Feature"
   ],
   "window_display": false
  }
 },
 "nbformat": 4,
 "nbformat_minor": 5
}
